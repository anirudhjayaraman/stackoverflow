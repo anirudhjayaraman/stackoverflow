{
 "cells": [
  {
   "cell_type": "markdown",
   "metadata": {},
   "source": [
    "For the last two questions regarding what are related to relationships of variables with salary and job satisfaction - Each of these questions will involve not only building some sort of predictive model, but also finding and interpretting the influential components of whatever model we build.\n",
    "\n",
    "To get started let's read in the necessary libraries and take a look at some of our columns of interest."
   ]
  },
  {
   "cell_type": "code",
   "execution_count": 1,
   "metadata": {},
   "outputs": [
    {
     "data": {
      "text/html": [
       "<div>\n",
       "<style scoped>\n",
       "    .dataframe tbody tr th:only-of-type {\n",
       "        vertical-align: middle;\n",
       "    }\n",
       "\n",
       "    .dataframe tbody tr th {\n",
       "        vertical-align: top;\n",
       "    }\n",
       "\n",
       "    .dataframe thead th {\n",
       "        text-align: right;\n",
       "    }\n",
       "</style>\n",
       "<table border=\"1\" class=\"dataframe\">\n",
       "  <thead>\n",
       "    <tr style=\"text-align: right;\">\n",
       "      <th></th>\n",
       "      <th>Respondent</th>\n",
       "      <th>Professional</th>\n",
       "      <th>ProgramHobby</th>\n",
       "      <th>Country</th>\n",
       "      <th>University</th>\n",
       "      <th>EmploymentStatus</th>\n",
       "      <th>FormalEducation</th>\n",
       "      <th>MajorUndergrad</th>\n",
       "      <th>HomeRemote</th>\n",
       "      <th>CompanySize</th>\n",
       "      <th>...</th>\n",
       "      <th>StackOverflowMakeMoney</th>\n",
       "      <th>Gender</th>\n",
       "      <th>HighestEducationParents</th>\n",
       "      <th>Race</th>\n",
       "      <th>SurveyLong</th>\n",
       "      <th>QuestionsInteresting</th>\n",
       "      <th>QuestionsConfusing</th>\n",
       "      <th>InterestedAnswers</th>\n",
       "      <th>Salary</th>\n",
       "      <th>ExpectedSalary</th>\n",
       "    </tr>\n",
       "  </thead>\n",
       "  <tbody>\n",
       "    <tr>\n",
       "      <th>0</th>\n",
       "      <td>1</td>\n",
       "      <td>Student</td>\n",
       "      <td>Yes, both</td>\n",
       "      <td>United States</td>\n",
       "      <td>No</td>\n",
       "      <td>Not employed, and not looking for work</td>\n",
       "      <td>Secondary school</td>\n",
       "      <td>NaN</td>\n",
       "      <td>NaN</td>\n",
       "      <td>NaN</td>\n",
       "      <td>...</td>\n",
       "      <td>Strongly disagree</td>\n",
       "      <td>Male</td>\n",
       "      <td>High school</td>\n",
       "      <td>White or of European descent</td>\n",
       "      <td>Strongly disagree</td>\n",
       "      <td>Strongly agree</td>\n",
       "      <td>Disagree</td>\n",
       "      <td>Strongly agree</td>\n",
       "      <td>NaN</td>\n",
       "      <td>NaN</td>\n",
       "    </tr>\n",
       "    <tr>\n",
       "      <th>1</th>\n",
       "      <td>2</td>\n",
       "      <td>Student</td>\n",
       "      <td>Yes, both</td>\n",
       "      <td>United Kingdom</td>\n",
       "      <td>Yes, full-time</td>\n",
       "      <td>Employed part-time</td>\n",
       "      <td>Some college/university study without earning ...</td>\n",
       "      <td>Computer science or software engineering</td>\n",
       "      <td>More than half, but not all, the time</td>\n",
       "      <td>20 to 99 employees</td>\n",
       "      <td>...</td>\n",
       "      <td>Strongly disagree</td>\n",
       "      <td>Male</td>\n",
       "      <td>A master's degree</td>\n",
       "      <td>White or of European descent</td>\n",
       "      <td>Somewhat agree</td>\n",
       "      <td>Somewhat agree</td>\n",
       "      <td>Disagree</td>\n",
       "      <td>Strongly agree</td>\n",
       "      <td>NaN</td>\n",
       "      <td>37500.0</td>\n",
       "    </tr>\n",
       "    <tr>\n",
       "      <th>2</th>\n",
       "      <td>3</td>\n",
       "      <td>Professional developer</td>\n",
       "      <td>Yes, both</td>\n",
       "      <td>United Kingdom</td>\n",
       "      <td>No</td>\n",
       "      <td>Employed full-time</td>\n",
       "      <td>Bachelor's degree</td>\n",
       "      <td>Computer science or software engineering</td>\n",
       "      <td>Less than half the time, but at least one day ...</td>\n",
       "      <td>10,000 or more employees</td>\n",
       "      <td>...</td>\n",
       "      <td>Disagree</td>\n",
       "      <td>Male</td>\n",
       "      <td>A professional degree</td>\n",
       "      <td>White or of European descent</td>\n",
       "      <td>Somewhat agree</td>\n",
       "      <td>Agree</td>\n",
       "      <td>Disagree</td>\n",
       "      <td>Agree</td>\n",
       "      <td>113750.0</td>\n",
       "      <td>NaN</td>\n",
       "    </tr>\n",
       "    <tr>\n",
       "      <th>3</th>\n",
       "      <td>4</td>\n",
       "      <td>Professional non-developer who sometimes write...</td>\n",
       "      <td>Yes, both</td>\n",
       "      <td>United States</td>\n",
       "      <td>No</td>\n",
       "      <td>Employed full-time</td>\n",
       "      <td>Doctoral degree</td>\n",
       "      <td>A non-computer-focused engineering discipline</td>\n",
       "      <td>Less than half the time, but at least one day ...</td>\n",
       "      <td>10,000 or more employees</td>\n",
       "      <td>...</td>\n",
       "      <td>Disagree</td>\n",
       "      <td>Male</td>\n",
       "      <td>A doctoral degree</td>\n",
       "      <td>White or of European descent</td>\n",
       "      <td>Agree</td>\n",
       "      <td>Agree</td>\n",
       "      <td>Somewhat agree</td>\n",
       "      <td>Strongly agree</td>\n",
       "      <td>NaN</td>\n",
       "      <td>NaN</td>\n",
       "    </tr>\n",
       "    <tr>\n",
       "      <th>4</th>\n",
       "      <td>5</td>\n",
       "      <td>Professional developer</td>\n",
       "      <td>Yes, I program as a hobby</td>\n",
       "      <td>Switzerland</td>\n",
       "      <td>No</td>\n",
       "      <td>Employed full-time</td>\n",
       "      <td>Master's degree</td>\n",
       "      <td>Computer science or software engineering</td>\n",
       "      <td>Never</td>\n",
       "      <td>10 to 19 employees</td>\n",
       "      <td>...</td>\n",
       "      <td>NaN</td>\n",
       "      <td>NaN</td>\n",
       "      <td>NaN</td>\n",
       "      <td>NaN</td>\n",
       "      <td>NaN</td>\n",
       "      <td>NaN</td>\n",
       "      <td>NaN</td>\n",
       "      <td>NaN</td>\n",
       "      <td>NaN</td>\n",
       "      <td>NaN</td>\n",
       "    </tr>\n",
       "  </tbody>\n",
       "</table>\n",
       "<p>5 rows × 154 columns</p>\n",
       "</div>"
      ],
      "text/plain": [
       "   Respondent                                       Professional  \\\n",
       "0           1                                            Student   \n",
       "1           2                                            Student   \n",
       "2           3                             Professional developer   \n",
       "3           4  Professional non-developer who sometimes write...   \n",
       "4           5                             Professional developer   \n",
       "\n",
       "                ProgramHobby         Country      University  \\\n",
       "0                  Yes, both   United States              No   \n",
       "1                  Yes, both  United Kingdom  Yes, full-time   \n",
       "2                  Yes, both  United Kingdom              No   \n",
       "3                  Yes, both   United States              No   \n",
       "4  Yes, I program as a hobby     Switzerland              No   \n",
       "\n",
       "                         EmploymentStatus  \\\n",
       "0  Not employed, and not looking for work   \n",
       "1                      Employed part-time   \n",
       "2                      Employed full-time   \n",
       "3                      Employed full-time   \n",
       "4                      Employed full-time   \n",
       "\n",
       "                                     FormalEducation  \\\n",
       "0                                   Secondary school   \n",
       "1  Some college/university study without earning ...   \n",
       "2                                  Bachelor's degree   \n",
       "3                                    Doctoral degree   \n",
       "4                                    Master's degree   \n",
       "\n",
       "                                  MajorUndergrad  \\\n",
       "0                                            NaN   \n",
       "1       Computer science or software engineering   \n",
       "2       Computer science or software engineering   \n",
       "3  A non-computer-focused engineering discipline   \n",
       "4       Computer science or software engineering   \n",
       "\n",
       "                                          HomeRemote  \\\n",
       "0                                                NaN   \n",
       "1              More than half, but not all, the time   \n",
       "2  Less than half the time, but at least one day ...   \n",
       "3  Less than half the time, but at least one day ...   \n",
       "4                                              Never   \n",
       "\n",
       "                CompanySize  ... StackOverflowMakeMoney Gender  \\\n",
       "0                       NaN  ...      Strongly disagree   Male   \n",
       "1        20 to 99 employees  ...      Strongly disagree   Male   \n",
       "2  10,000 or more employees  ...               Disagree   Male   \n",
       "3  10,000 or more employees  ...               Disagree   Male   \n",
       "4        10 to 19 employees  ...                    NaN    NaN   \n",
       "\n",
       "  HighestEducationParents                          Race         SurveyLong  \\\n",
       "0             High school  White or of European descent  Strongly disagree   \n",
       "1       A master's degree  White or of European descent     Somewhat agree   \n",
       "2   A professional degree  White or of European descent     Somewhat agree   \n",
       "3       A doctoral degree  White or of European descent              Agree   \n",
       "4                     NaN                           NaN                NaN   \n",
       "\n",
       "  QuestionsInteresting QuestionsConfusing InterestedAnswers    Salary  \\\n",
       "0       Strongly agree           Disagree    Strongly agree       NaN   \n",
       "1       Somewhat agree           Disagree    Strongly agree       NaN   \n",
       "2                Agree           Disagree             Agree  113750.0   \n",
       "3                Agree     Somewhat agree    Strongly agree       NaN   \n",
       "4                  NaN                NaN               NaN       NaN   \n",
       "\n",
       "   ExpectedSalary  \n",
       "0             NaN  \n",
       "1         37500.0  \n",
       "2             NaN  \n",
       "3             NaN  \n",
       "4             NaN  \n",
       "\n",
       "[5 rows x 154 columns]"
      ]
     },
     "execution_count": 1,
     "metadata": {},
     "output_type": "execute_result"
    }
   ],
   "source": [
    "import numpy as np\n",
    "import pandas as pd\n",
    "import matplotlib.pyplot as plt\n",
    "from sklearn.linear_model import LinearRegression\n",
    "from sklearn.model_selection import train_test_split\n",
    "from sklearn.metrics import r2_score, mean_squared_error\n",
    "import seaborn as sns\n",
    "%matplotlib inline\n",
    "\n",
    "df = pd.read_csv('./survey_results_public.csv')\n",
    "df.head()"
   ]
  },
  {
   "cell_type": "code",
   "execution_count": 2,
   "metadata": {},
   "outputs": [
    {
     "data": {
      "text/html": [
       "<div>\n",
       "<style scoped>\n",
       "    .dataframe tbody tr th:only-of-type {\n",
       "        vertical-align: middle;\n",
       "    }\n",
       "\n",
       "    .dataframe tbody tr th {\n",
       "        vertical-align: top;\n",
       "    }\n",
       "\n",
       "    .dataframe thead th {\n",
       "        text-align: right;\n",
       "    }\n",
       "</style>\n",
       "<table border=\"1\" class=\"dataframe\">\n",
       "  <thead>\n",
       "    <tr style=\"text-align: right;\">\n",
       "      <th></th>\n",
       "      <th>Respondent</th>\n",
       "      <th>CareerSatisfaction</th>\n",
       "      <th>JobSatisfaction</th>\n",
       "      <th>HoursPerWeek</th>\n",
       "      <th>StackOverflowSatisfaction</th>\n",
       "      <th>Salary</th>\n",
       "      <th>ExpectedSalary</th>\n",
       "    </tr>\n",
       "  </thead>\n",
       "  <tbody>\n",
       "    <tr>\n",
       "      <th>count</th>\n",
       "      <td>51392.000000</td>\n",
       "      <td>42695.000000</td>\n",
       "      <td>40376.000000</td>\n",
       "      <td>20600.000000</td>\n",
       "      <td>36592.000000</td>\n",
       "      <td>12891.000000</td>\n",
       "      <td>2566.000000</td>\n",
       "    </tr>\n",
       "    <tr>\n",
       "      <th>mean</th>\n",
       "      <td>25696.500000</td>\n",
       "      <td>7.300574</td>\n",
       "      <td>6.957078</td>\n",
       "      <td>3.952282</td>\n",
       "      <td>8.429875</td>\n",
       "      <td>56298.480641</td>\n",
       "      <td>33142.220468</td>\n",
       "    </tr>\n",
       "    <tr>\n",
       "      <th>std</th>\n",
       "      <td>14835.736854</td>\n",
       "      <td>1.955444</td>\n",
       "      <td>2.167652</td>\n",
       "      <td>7.564722</td>\n",
       "      <td>1.390635</td>\n",
       "      <td>39880.905277</td>\n",
       "      <td>30162.988829</td>\n",
       "    </tr>\n",
       "    <tr>\n",
       "      <th>min</th>\n",
       "      <td>1.000000</td>\n",
       "      <td>0.000000</td>\n",
       "      <td>0.000000</td>\n",
       "      <td>0.000000</td>\n",
       "      <td>0.000000</td>\n",
       "      <td>0.000000</td>\n",
       "      <td>0.000000</td>\n",
       "    </tr>\n",
       "    <tr>\n",
       "      <th>25%</th>\n",
       "      <td>12848.750000</td>\n",
       "      <td>6.000000</td>\n",
       "      <td>6.000000</td>\n",
       "      <td>1.000000</td>\n",
       "      <td>8.000000</td>\n",
       "      <td>26440.371839</td>\n",
       "      <td>4490.492484</td>\n",
       "    </tr>\n",
       "    <tr>\n",
       "      <th>50%</th>\n",
       "      <td>25696.500000</td>\n",
       "      <td>8.000000</td>\n",
       "      <td>7.000000</td>\n",
       "      <td>1.000000</td>\n",
       "      <td>9.000000</td>\n",
       "      <td>50000.000000</td>\n",
       "      <td>29364.263691</td>\n",
       "    </tr>\n",
       "    <tr>\n",
       "      <th>75%</th>\n",
       "      <td>38544.250000</td>\n",
       "      <td>9.000000</td>\n",
       "      <td>8.000000</td>\n",
       "      <td>4.000000</td>\n",
       "      <td>10.000000</td>\n",
       "      <td>80000.000000</td>\n",
       "      <td>50403.225806</td>\n",
       "    </tr>\n",
       "    <tr>\n",
       "      <th>max</th>\n",
       "      <td>51392.000000</td>\n",
       "      <td>10.000000</td>\n",
       "      <td>10.000000</td>\n",
       "      <td>40.000000</td>\n",
       "      <td>10.000000</td>\n",
       "      <td>197000.000000</td>\n",
       "      <td>187500.000000</td>\n",
       "    </tr>\n",
       "  </tbody>\n",
       "</table>\n",
       "</div>"
      ],
      "text/plain": [
       "         Respondent  CareerSatisfaction  JobSatisfaction  HoursPerWeek  \\\n",
       "count  51392.000000        42695.000000     40376.000000  20600.000000   \n",
       "mean   25696.500000            7.300574         6.957078      3.952282   \n",
       "std    14835.736854            1.955444         2.167652      7.564722   \n",
       "min        1.000000            0.000000         0.000000      0.000000   \n",
       "25%    12848.750000            6.000000         6.000000      1.000000   \n",
       "50%    25696.500000            8.000000         7.000000      1.000000   \n",
       "75%    38544.250000            9.000000         8.000000      4.000000   \n",
       "max    51392.000000           10.000000        10.000000     40.000000   \n",
       "\n",
       "       StackOverflowSatisfaction         Salary  ExpectedSalary  \n",
       "count               36592.000000   12891.000000     2566.000000  \n",
       "mean                    8.429875   56298.480641    33142.220468  \n",
       "std                     1.390635   39880.905277    30162.988829  \n",
       "min                     0.000000       0.000000        0.000000  \n",
       "25%                     8.000000   26440.371839     4490.492484  \n",
       "50%                     9.000000   50000.000000    29364.263691  \n",
       "75%                    10.000000   80000.000000    50403.225806  \n",
       "max                    10.000000  197000.000000   187500.000000  "
      ]
     },
     "execution_count": 2,
     "metadata": {},
     "output_type": "execute_result"
    }
   ],
   "source": [
    "# Working with just quantitative variables is actually pretty straightforward \n",
    "# for most supervised learning techniques (except - we note that any row with \n",
    "# a missing value in any of the columns we use will be dropped -\n",
    "# which might leave us with fewer predictions than we were hoping for).\n",
    "# Let's just start and iterate on our findings\n",
    "\n",
    "# Let's just fit something and go from there\n",
    "df.describe()"
   ]
  },
  {
   "cell_type": "code",
   "execution_count": 3,
   "metadata": {},
   "outputs": [
    {
     "data": {
      "image/png": "[encoded data removed]",
      "text/plain": [
       "<Figure size 432x288 with 9 Axes>"
      ]
     },
     "metadata": {
      "needs_background": "light"
     },
     "output_type": "display_data"
    }
   ],
   "source": [
    "# The above are variables that python is treating as numeric variables, and therefore, we \n",
    "# could send them into our linear model blindly to predict the response\n",
    "# Let's take a quick look at our data first\n",
    "\n",
    "df.hist();"
   ]
  },
  {
   "cell_type": "code",
   "execution_count": 4,
   "metadata": {},
   "outputs": [
    {
     "data": {
      "image/png": "[encoded data removed]",
      "text/plain": [
       "<Figure size 432x288 with 2 Axes>"
      ]
     },
     "metadata": {
      "needs_background": "light"
     },
     "output_type": "display_data"
    }
   ],
   "source": [
    "sns.heatmap(df.corr(), annot=True, fmt=\".2f\");"
   ]
  },
  {
   "cell_type": "code",
   "execution_count": 5,
   "metadata": {},
   "outputs": [
    {
     "data": {
      "text/plain": [
       "LinearRegression(normalize=True)"
      ]
     },
     "execution_count": 5,
     "metadata": {},
     "output_type": "execute_result"
    }
   ],
   "source": [
    "# Here we can see that none of our variables appear to greatly correlated with salary\n",
    "# and we can see that if someone was given an expected salary question, they either\n",
    "# never answered the salary question or they were not given the salary question\n",
    "\n",
    "\n",
    "# We an still go ahead and make predictions using these variables as a reminder of the \n",
    "# scikit learn way of fitting models.  The process is similar to quickly fit models of \n",
    "# all types - usually a four step process of - instantiate, fit, predict, score\n",
    "# In most cases, we also will want to split data into training and test data to assure \n",
    "# we are not building models that overfit the data and do not extend well to new situations.\n",
    "\n",
    "df.dropna(subset = ['CareerSatisfaction', 'HoursPerWeek', 'JobSatisfaction', 'StackOverflowSatisfaction','Salary'], inplace = True)\n",
    "X = df[['CareerSatisfaction', 'HoursPerWeek', 'JobSatisfaction', 'StackOverflowSatisfaction']]\n",
    "y = df['Salary']\n",
    "\n",
    "X_train, X_test, y_train, y_test = train_test_split(X, y, test_size = .30, random_state=42)\n",
    "\n",
    "lm_model = LinearRegression(normalize=True) # Here you could set any hyperparameters of your model\n",
    "lm_model.fit(X_train, y_train) # If this model was to predict for new individuals, we probably would want\n",
    "               # worry about train/test splits and cross-validation, but for now I am most \n",
    "               # interested in finding a model that just fits all of the data well"
   ]
  },
  {
   "cell_type": "code",
   "execution_count": 6,
   "metadata": {},
   "outputs": [
    {
     "data": {
      "text/plain": [
       "(5338, 154)"
      ]
     },
     "execution_count": 6,
     "metadata": {},
     "output_type": "execute_result"
    }
   ],
   "source": [
    "### Notice the above breaks because of the NaN values, so we either need to fill or remove them\n",
    "# Or we could write a conditional model that fits differently \n",
    "# depending on the values that are missing - we can see the nans based on the describe above\n",
    "df.shape\n",
    "\n",
    "\n",
    "#________ Video 1 through here on introduction to the data - could do a bit more EDA ________#"
   ]
  },
  {
   "cell_type": "code",
   "execution_count": 7,
   "metadata": {},
   "outputs": [
    {
     "name": "stdout",
     "output_type": "stream",
     "text": [
      "0.030994664959115625\n",
      "1546382888.0495825\n"
     ]
    }
   ],
   "source": [
    "### The easiest way to move onto a conclusion in a first pass is probably just with dropping\n",
    "\n",
    "num_vars = df[['Salary', 'CareerSatisfaction', 'HoursPerWeek', 'JobSatisfaction', 'StackOverflowSatisfaction']]\n",
    "df_dropna = num_vars.dropna(axis=0)\n",
    "\n",
    "X = df_dropna[['CareerSatisfaction', 'HoursPerWeek', 'JobSatisfaction', 'StackOverflowSatisfaction']]\n",
    "y = df_dropna['Salary']\n",
    "\n",
    "X_train, X_test, y_train, y_test = train_test_split(X, y, test_size = .30, random_state=42)\n",
    "\n",
    "lm_model = LinearRegression(normalize=True) # Here you could set any hyperparameters of your model\n",
    "lm_model.fit(X_train, y_train) # If this model was to predict for new individuals, we probably would want\n",
    "               # worry about train/test splits and cross-validation, but for now I am most \n",
    "               # interested in finding a model that just fits all of the data well\n",
    "\n",
    "        \n",
    "y_test_preds = lm_model.predict(X_test) #We can then use our fitted model to predict the salary for each\n",
    "                                        #indvidual in our test set, and see how well these predictions\n",
    "                                        #match the truth.\n",
    "\n",
    "print(r2_score(y_test, y_test_preds)) #In this case we are predicting a continuous, numeric response.  Therefore, common\n",
    "print(mean_squared_error(y_test, y_test_preds)) #metrics to assess fit include Rsquared and MSE."
   ]
  },
  {
   "cell_type": "code",
   "execution_count": 8,
   "metadata": {},
   "outputs": [
    {
     "data": {
      "text/plain": [
       "(5338, 5)"
      ]
     },
     "execution_count": 8,
     "metadata": {},
     "output_type": "execute_result"
    }
   ],
   "source": [
    "# Whoop - we built a model that predicts... but we are missing by ALOT!\n",
    "# We can get a quick glimpse of how bad our predictions are...\n",
    "# This suggests that 3% of the variability in salaries can be explained by these variables...\n",
    "df_dropna.shape # But it also reduced our dataset to only 5338 rows \n",
    "                # ~20% of the original dataset size"
   ]
  },
  {
   "cell_type": "code",
   "execution_count": null,
   "metadata": {
    "collapsed": true,
    "jupyter": {
     "outputs_hidden": true
    }
   },
   "outputs": [],
   "source": []
  },
  {
   "cell_type": "markdown",
   "metadata": {},
   "source": [
    "# Recorded from here up\n",
    "\n",
    "\n",
    "# Screencasts Remaining:\n",
    "1. Imputation - first results\n",
    "2. Categorical Variables - improved results, but what is happening?\n",
    "3. Combat Overfitting - one method"
   ]
  },
  {
   "cell_type": "code",
   "execution_count": null,
   "metadata": {
    "collapsed": true,
    "jupyter": {
     "outputs_hidden": true
    }
   },
   "outputs": [],
   "source": []
  },
  {
   "cell_type": "code",
   "execution_count": 9,
   "metadata": {},
   "outputs": [
    {
     "data": {
      "text/html": [
       "<div>\n",
       "<style scoped>\n",
       "    .dataframe tbody tr th:only-of-type {\n",
       "        vertical-align: middle;\n",
       "    }\n",
       "\n",
       "    .dataframe tbody tr th {\n",
       "        vertical-align: top;\n",
       "    }\n",
       "\n",
       "    .dataframe thead th {\n",
       "        text-align: right;\n",
       "    }\n",
       "</style>\n",
       "<table border=\"1\" class=\"dataframe\">\n",
       "  <thead>\n",
       "    <tr style=\"text-align: right;\">\n",
       "      <th></th>\n",
       "      <th>actual</th>\n",
       "      <th>preds</th>\n",
       "      <th>diff</th>\n",
       "    </tr>\n",
       "  </thead>\n",
       "  <tbody>\n",
       "    <tr>\n",
       "      <th>0</th>\n",
       "      <td>34408.602151</td>\n",
       "      <td>54632.316959</td>\n",
       "      <td>-20223.714808</td>\n",
       "    </tr>\n",
       "    <tr>\n",
       "      <th>1</th>\n",
       "      <td>1182.795699</td>\n",
       "      <td>41700.350270</td>\n",
       "      <td>-40517.554571</td>\n",
       "    </tr>\n",
       "    <tr>\n",
       "      <th>2</th>\n",
       "      <td>33750.000000</td>\n",
       "      <td>44195.215816</td>\n",
       "      <td>-10445.215816</td>\n",
       "    </tr>\n",
       "    <tr>\n",
       "      <th>3</th>\n",
       "      <td>74660.633484</td>\n",
       "      <td>62622.374481</td>\n",
       "      <td>12038.259003</td>\n",
       "    </tr>\n",
       "    <tr>\n",
       "      <th>4</th>\n",
       "      <td>27149.321267</td>\n",
       "      <td>59371.351903</td>\n",
       "      <td>-32222.030636</td>\n",
       "    </tr>\n",
       "  </tbody>\n",
       "</table>\n",
       "</div>"
      ],
      "text/plain": [
       "         actual         preds          diff\n",
       "0  34408.602151  54632.316959 -20223.714808\n",
       "1   1182.795699  41700.350270 -40517.554571\n",
       "2  33750.000000  44195.215816 -10445.215816\n",
       "3  74660.633484  62622.374481  12038.259003\n",
       "4  27149.321267  59371.351903 -32222.030636"
      ]
     },
     "execution_count": 9,
     "metadata": {},
     "output_type": "execute_result"
    }
   ],
   "source": [
    "preds_vs_act = pd.DataFrame(np.hstack([y_test.values.reshape(y_test.size,1), y_test_preds.reshape(y_test.size,1)]))\n",
    "preds_vs_act.columns = ['actual', 'preds']\n",
    "preds_vs_act['diff'] = preds_vs_act['actual'] - preds_vs_act['preds']\n",
    "preds_vs_act.head()"
   ]
  },
  {
   "cell_type": "code",
   "execution_count": 10,
   "metadata": {},
   "outputs": [
    {
     "data": {
      "image/png": "[encoded data removed]",
      "text/plain": [
       "<Figure size 432x288 with 1 Axes>"
      ]
     },
     "metadata": {
      "needs_background": "light"
     },
     "output_type": "display_data"
    }
   ],
   "source": [
    "### We can plot how far our predictions are from the actual values compaired to the\n",
    "### predicted values - you can see that it isn't uncommon for us to miss salaries by\n",
    "### 150000 and the overpredictions tend to be much worse than the underpredictions\n",
    "### THere also appears to be a trend where our differences decrease as the predicted\n",
    "### values increase on the test data.\n",
    "\n",
    "plt.plot(preds_vs_act['preds'], preds_vs_act['diff'], 'bo');\n",
    "plt.xlabel('predicted');\n",
    "plt.ylabel('difference');"
   ]
  },
  {
   "cell_type": "code",
   "execution_count": 11,
   "metadata": {},
   "outputs": [
    {
     "name": "stdout",
     "output_type": "stream",
     "text": [
      "0.030994664959115625\n"
     ]
    }
   ],
   "source": [
    "#______Video 2 ____Our First Modeling Attempt (Mark all the bad things)________#\n",
    "\n",
    "\n",
    "\n",
    "### There are tons of downfalls already - our predictions are pretty poor, we have predictions\n",
    "### for only 20% of the total values that actually hold salaries, and we are only using \n",
    "### quantitative variables to predict.\n",
    "\n",
    "### Given how bad the predictions are, we might not hurt anything by just filling the missing \n",
    "### values to make more predictions.\n",
    "\n",
    "#Here we fill on the column means\n",
    "df_fillna = num_vars.apply(lambda x: x.fillna(x.mean()),axis=0)\n",
    "\n",
    "X = df_fillna[['CareerSatisfaction', 'HoursPerWeek', 'JobSatisfaction', 'StackOverflowSatisfaction']]\n",
    "y = df_fillna['Salary']\n",
    "\n",
    "X_train, X_test, y_train, y_test = train_test_split(X, y, test_size = .30, random_state=42)\n",
    "\n",
    "lm_model = LinearRegression(normalize=True) # Here you could set any hyperparameters of your model\n",
    "lm_model.fit(X_train, y_train) # If this model was to predict for new individuals, we probably would want\n",
    "               # worry about train/test splits and cross-validation, but for now I am most \n",
    "               # interested in finding a model that just fits all of the data well\n",
    "\n",
    "        \n",
    "y_test_preds = lm_model.predict(X_test) #We can then use our fitted model to predict the salary for each\n",
    "                                        #indvidual in our test set, and see how well these predictions\n",
    "                                        #match the truth.\n",
    "\n",
    "print(r2_score(y_test, y_test_preds)) #In this case we are predicting a continuous, numeric response.  Therefore, common\n"
   ]
  },
  {
   "cell_type": "code",
   "execution_count": 12,
   "metadata": {},
   "outputs": [
    {
     "data": {
      "text/plain": [
       "(5338, 4)"
      ]
     },
     "execution_count": 12,
     "metadata": {},
     "output_type": "execute_result"
    }
   ],
   "source": [
    "X.shape"
   ]
  },
  {
   "cell_type": "code",
   "execution_count": 13,
   "metadata": {},
   "outputs": [
    {
     "data": {
      "text/html": [
       "<div>\n",
       "<style scoped>\n",
       "    .dataframe tbody tr th:only-of-type {\n",
       "        vertical-align: middle;\n",
       "    }\n",
       "\n",
       "    .dataframe tbody tr th {\n",
       "        vertical-align: top;\n",
       "    }\n",
       "\n",
       "    .dataframe thead th {\n",
       "        text-align: right;\n",
       "    }\n",
       "</style>\n",
       "<table border=\"1\" class=\"dataframe\">\n",
       "  <thead>\n",
       "    <tr style=\"text-align: right;\">\n",
       "      <th></th>\n",
       "      <th>actual</th>\n",
       "      <th>preds</th>\n",
       "      <th>diff</th>\n",
       "    </tr>\n",
       "  </thead>\n",
       "  <tbody>\n",
       "    <tr>\n",
       "      <th>0</th>\n",
       "      <td>34408.602151</td>\n",
       "      <td>54632.316959</td>\n",
       "      <td>-20223.714808</td>\n",
       "    </tr>\n",
       "    <tr>\n",
       "      <th>1</th>\n",
       "      <td>1182.795699</td>\n",
       "      <td>41700.350270</td>\n",
       "      <td>-40517.554571</td>\n",
       "    </tr>\n",
       "    <tr>\n",
       "      <th>2</th>\n",
       "      <td>33750.000000</td>\n",
       "      <td>44195.215816</td>\n",
       "      <td>-10445.215816</td>\n",
       "    </tr>\n",
       "    <tr>\n",
       "      <th>3</th>\n",
       "      <td>74660.633484</td>\n",
       "      <td>62622.374481</td>\n",
       "      <td>12038.259003</td>\n",
       "    </tr>\n",
       "    <tr>\n",
       "      <th>4</th>\n",
       "      <td>27149.321267</td>\n",
       "      <td>59371.351903</td>\n",
       "      <td>-32222.030636</td>\n",
       "    </tr>\n",
       "  </tbody>\n",
       "</table>\n",
       "</div>"
      ],
      "text/plain": [
       "         actual         preds          diff\n",
       "0  34408.602151  54632.316959 -20223.714808\n",
       "1   1182.795699  41700.350270 -40517.554571\n",
       "2  33750.000000  44195.215816 -10445.215816\n",
       "3  74660.633484  62622.374481  12038.259003\n",
       "4  27149.321267  59371.351903 -32222.030636"
      ]
     },
     "execution_count": 13,
     "metadata": {},
     "output_type": "execute_result"
    }
   ],
   "source": [
    "### Now we can predict on everything, but our predictions are even worse!\n",
    "\n",
    "preds_vs_act = pd.DataFrame(np.hstack([y_test.values.reshape(y_test.size,1), y_test_preds.reshape(y_test.size,1)]))\n",
    "preds_vs_act.columns = ['actual', 'preds']\n",
    "preds_vs_act['diff'] = preds_vs_act['actual'] - preds_vs_act['preds']\n",
    "preds_vs_act.head()"
   ]
  },
  {
   "cell_type": "code",
   "execution_count": 14,
   "metadata": {},
   "outputs": [
    {
     "data": {
      "image/png": "[encoded data removed]",
      "text/plain": [
       "<Figure size 432x288 with 1 Axes>"
      ]
     },
     "metadata": {
      "needs_background": "light"
     },
     "output_type": "display_data"
    }
   ],
   "source": [
    "plt.plot(preds_vs_act['preds'], preds_vs_act['diff'], 'bo');\n",
    "plt.xlabel('predicted');\n",
    "plt.ylabel('difference');"
   ]
  },
  {
   "cell_type": "code",
   "execution_count": 15,
   "metadata": {},
   "outputs": [
    {
     "data": {
      "image/png": "[encoded data removed]",
      "text/plain": [
       "<Figure size 432x288 with 1 Axes>"
      ]
     },
     "metadata": {
      "needs_background": "light"
     },
     "output_type": "display_data"
    }
   ],
   "source": [
    "plt.plot(preds_vs_act['preds'], preds_vs_act['actual'], 'bo');\n",
    "plt.xlabel('predicted');\n",
    "plt.ylabel('actual'); #This looks less compelling that we are predicting well...\n",
    "# I also think I found the mean amount...which aren't real 'actual' salaries"
   ]
  },
  {
   "cell_type": "code",
   "execution_count": 16,
   "metadata": {},
   "outputs": [
    {
     "data": {
      "text/plain": [
       "(5338, 5)"
      ]
     },
     "execution_count": 16,
     "metadata": {},
     "output_type": "execute_result"
    }
   ],
   "source": [
    "### Some strange line here - probably because we filled in our average for everything\n",
    "### Which was actually data leakage.  We shouldn't have done this at all. We would likely\n",
    "### Have to use the mean of the old data to fill in the missing of the future data...\n",
    "\n",
    "### But this does depend a bit - if on future homes, you will have the x-variables before\n",
    "### having to predict, this really isn't data leakage, as you would have the abiltiy to update\n",
    "### the inputed means with each new individual in your dataset.\n",
    "\n",
    "### Really the values that have the mean value for the salary should be dropped - because\n",
    "### those are not true salaries.\n",
    "\n",
    "df_fillna = df_fillna.drop(df_fillna[df_fillna['Salary'] == np.mean(df['Salary'])].index)\n",
    "df_fillna.shape # that's better. we only have this many non-null salaries in our original dataset\n"
   ]
  },
  {
   "cell_type": "code",
   "execution_count": 17,
   "metadata": {},
   "outputs": [],
   "source": [
    "#Below you can fit a new model with the missing salaries removed"
   ]
  },
  {
   "cell_type": "code",
   "execution_count": 18,
   "metadata": {},
   "outputs": [
    {
     "name": "stdout",
     "output_type": "stream",
     "text": [
      "0.030994664959115625\n",
      "1546382888.0495825\n"
     ]
    }
   ],
   "source": [
    "X = df_fillna[['CareerSatisfaction', 'HoursPerWeek', 'JobSatisfaction', 'StackOverflowSatisfaction']]\n",
    "y = df_fillna['Salary']\n",
    "\n",
    "X_train, X_test, y_train, y_test = train_test_split(X, y, test_size = .30, random_state=42)\n",
    "\n",
    "lm_model = LinearRegression(normalize=True) # Here you could set any hyperparameters of your model\n",
    "lm_model.fit(X_train, y_train) # If this model was to predict for new individuals, we probably would want\n",
    "               # worry about train/test splits and cross-validation, but for now I am most \n",
    "               # interested in finding a model that just fits all of the data well\n",
    "\n",
    "        \n",
    "y_test_preds = lm_model.predict(X_test) #We can then use our fitted model to predict the salary for each\n",
    "                                        #indvidual in our test set, and see how well these predictions\n",
    "                                        #match the truth.\n",
    "\n",
    "print(r2_score(y_test, y_test_preds)) #In this case we are predicting a continuous, numeric response.  Therefore, common\n",
    "print(mean_squared_error(y_test, y_test_preds)) #metrics to assess fit include Rsquared and MSE.  \n"
   ]
  },
  {
   "cell_type": "code",
   "execution_count": 19,
   "metadata": {},
   "outputs": [
    {
     "data": {
      "text/plain": [
       "(1602, 3)"
      ]
     },
     "execution_count": 19,
     "metadata": {},
     "output_type": "execute_result"
    }
   ],
   "source": [
    "##### Stop Video 2\n",
    "\n",
    "\n",
    "\n",
    "### Now we can predict on everything, but our predictions are even worse!\n",
    "\n",
    "preds_vs_act = pd.DataFrame(np.hstack([y_test.values.reshape(y_test.size,1), y_test_preds.reshape(y_test.size,1)]))\n",
    "preds_vs_act.columns = ['actual', 'preds']\n",
    "preds_vs_act['diff'] = preds_vs_act['actual'] - preds_vs_act['preds']\n",
    "preds_vs_act.shape"
   ]
  },
  {
   "cell_type": "code",
   "execution_count": 20,
   "metadata": {},
   "outputs": [
    {
     "data": {
      "image/png": "[encoded data removed]",
      "text/plain": [
       "<Figure size 432x288 with 1 Axes>"
      ]
     },
     "metadata": {
      "needs_background": "light"
     },
     "output_type": "display_data"
    }
   ],
   "source": [
    "plt.plot(preds_vs_act['preds'], preds_vs_act['diff'], 'bo');\n",
    "plt.xlabel('predicted');\n",
    "plt.ylabel('difference');"
   ]
  },
  {
   "cell_type": "code",
   "execution_count": 21,
   "metadata": {},
   "outputs": [
    {
     "data": {
      "image/png": "[encoded data removed]",
      "text/plain": [
       "<Figure size 432x288 with 1 Axes>"
      ]
     },
     "metadata": {
      "needs_background": "light"
     },
     "output_type": "display_data"
    }
   ],
   "source": [
    "### When we see fan like shapes in the residual plots like this - it often suggests\n",
    "### we might make better predictions on the log of the response\n",
    "\n",
    "plt.plot(preds_vs_act['preds'], preds_vs_act['actual'], 'bo');\n",
    "plt.xlabel('predicted');\n",
    "plt.ylabel('actual'); #there appears to be a slight positive trend like we would want to see"
   ]
  },
  {
   "cell_type": "code",
   "execution_count": 22,
   "metadata": {},
   "outputs": [
    {
     "data": {
      "text/plain": [
       "147"
      ]
     },
     "execution_count": 22,
     "metadata": {},
     "output_type": "execute_result"
    }
   ],
   "source": [
    "#______Video 3 Fill in Missing values with the mean - why this is bad_______#\n",
    "\n",
    "\n",
    "### Let's see how we might be able to use categorical variables in our models.\n",
    "### Though you might try to do something smart to reduce the feature space of your\n",
    "### x-matrix (like find curved relationships that exist in salary comparing across categories).\n",
    "### It is probably easier to just blindly encode all of the categorical variables as dummy\n",
    "### variables in our models.\n",
    "\n",
    "cat_vars_int = df.select_dtypes(include=['object']).copy().columns\n",
    "# http://pbpython.com/categorical-encoding.html\n",
    "\n",
    "len(cat_vars_int)"
   ]
  },
  {
   "cell_type": "code",
   "execution_count": 23,
   "metadata": {},
   "outputs": [],
   "source": [
    "### Now that we have a list of all the dummy variables we might be interested in... \n",
    "### Let's dummy code them, so that we can use them in our machine learning models\n",
    "### you can do this with pandas (get dummies) or with sklearn (one hot encoding)\n",
    "### Feel free to use whatever you are comfortable with"
   ]
  },
  {
   "cell_type": "code",
   "execution_count": 24,
   "metadata": {},
   "outputs": [
    {
     "data": {
      "text/html": [
       "<div>\n",
       "<style scoped>\n",
       "    .dataframe tbody tr th:only-of-type {\n",
       "        vertical-align: middle;\n",
       "    }\n",
       "\n",
       "    .dataframe tbody tr th {\n",
       "        vertical-align: top;\n",
       "    }\n",
       "\n",
       "    .dataframe thead th {\n",
       "        text-align: right;\n",
       "    }\n",
       "</style>\n",
       "<table border=\"1\" class=\"dataframe\">\n",
       "  <thead>\n",
       "    <tr style=\"text-align: right;\">\n",
       "      <th></th>\n",
       "      <th>Respondent</th>\n",
       "      <th>CareerSatisfaction</th>\n",
       "      <th>JobSatisfaction</th>\n",
       "      <th>HoursPerWeek</th>\n",
       "      <th>StackOverflowSatisfaction</th>\n",
       "      <th>Salary</th>\n",
       "      <th>ExpectedSalary</th>\n",
       "      <th>ProgramHobby_Yes, I contribute to open source projects</th>\n",
       "      <th>ProgramHobby_Yes, I program as a hobby</th>\n",
       "      <th>ProgramHobby_Yes, both</th>\n",
       "      <th>...</th>\n",
       "      <th>QuestionsInteresting_Strongly agree</th>\n",
       "      <th>QuestionsInteresting_Strongly disagree</th>\n",
       "      <th>QuestionsConfusing_Disagree</th>\n",
       "      <th>QuestionsConfusing_Somewhat agree</th>\n",
       "      <th>QuestionsConfusing_Strongly agree</th>\n",
       "      <th>QuestionsConfusing_Strongly disagree</th>\n",
       "      <th>InterestedAnswers_Disagree</th>\n",
       "      <th>InterestedAnswers_Somewhat agree</th>\n",
       "      <th>InterestedAnswers_Strongly agree</th>\n",
       "      <th>InterestedAnswers_Strongly disagree</th>\n",
       "    </tr>\n",
       "  </thead>\n",
       "  <tbody>\n",
       "    <tr>\n",
       "      <th>count</th>\n",
       "      <td>5338.000000</td>\n",
       "      <td>5338.000000</td>\n",
       "      <td>5338.000000</td>\n",
       "      <td>5338.000000</td>\n",
       "      <td>5338.000000</td>\n",
       "      <td>5338.000000</td>\n",
       "      <td>0.0</td>\n",
       "      <td>5338.000000</td>\n",
       "      <td>5338.000000</td>\n",
       "      <td>5338.000000</td>\n",
       "      <td>...</td>\n",
       "      <td>5338.000000</td>\n",
       "      <td>5338.000000</td>\n",
       "      <td>5338.000000</td>\n",
       "      <td>5338.000000</td>\n",
       "      <td>5338.000000</td>\n",
       "      <td>5338.000000</td>\n",
       "      <td>5338.000000</td>\n",
       "      <td>5338.000000</td>\n",
       "      <td>5338.000000</td>\n",
       "      <td>5338.000000</td>\n",
       "    </tr>\n",
       "    <tr>\n",
       "      <th>mean</th>\n",
       "      <td>26230.404271</td>\n",
       "      <td>7.225553</td>\n",
       "      <td>6.364556</td>\n",
       "      <td>2.492319</td>\n",
       "      <td>8.517422</td>\n",
       "      <td>53530.111740</td>\n",
       "      <td>NaN</td>\n",
       "      <td>0.057512</td>\n",
       "      <td>0.476770</td>\n",
       "      <td>0.289622</td>\n",
       "      <td>...</td>\n",
       "      <td>0.084489</td>\n",
       "      <td>0.005058</td>\n",
       "      <td>0.586924</td>\n",
       "      <td>0.076058</td>\n",
       "      <td>0.001686</td>\n",
       "      <td>0.282128</td>\n",
       "      <td>0.014987</td>\n",
       "      <td>0.093106</td>\n",
       "      <td>0.442862</td>\n",
       "      <td>0.008055</td>\n",
       "    </tr>\n",
       "    <tr>\n",
       "      <th>std</th>\n",
       "      <td>15785.165900</td>\n",
       "      <td>1.800861</td>\n",
       "      <td>2.137602</td>\n",
       "      <td>5.044754</td>\n",
       "      <td>1.325927</td>\n",
       "      <td>39230.307209</td>\n",
       "      <td>NaN</td>\n",
       "      <td>0.232840</td>\n",
       "      <td>0.499507</td>\n",
       "      <td>0.453629</td>\n",
       "      <td>...</td>\n",
       "      <td>0.278145</td>\n",
       "      <td>0.070947</td>\n",
       "      <td>0.492432</td>\n",
       "      <td>0.265116</td>\n",
       "      <td>0.041030</td>\n",
       "      <td>0.450078</td>\n",
       "      <td>0.121512</td>\n",
       "      <td>0.290608</td>\n",
       "      <td>0.496771</td>\n",
       "      <td>0.089398</td>\n",
       "    </tr>\n",
       "    <tr>\n",
       "      <th>min</th>\n",
       "      <td>26.000000</td>\n",
       "      <td>0.000000</td>\n",
       "      <td>0.000000</td>\n",
       "      <td>0.000000</td>\n",
       "      <td>0.000000</td>\n",
       "      <td>0.000000</td>\n",
       "      <td>NaN</td>\n",
       "      <td>0.000000</td>\n",
       "      <td>0.000000</td>\n",
       "      <td>0.000000</td>\n",
       "      <td>...</td>\n",
       "      <td>0.000000</td>\n",
       "      <td>0.000000</td>\n",
       "      <td>0.000000</td>\n",
       "      <td>0.000000</td>\n",
       "      <td>0.000000</td>\n",
       "      <td>0.000000</td>\n",
       "      <td>0.000000</td>\n",
       "      <td>0.000000</td>\n",
       "      <td>0.000000</td>\n",
       "      <td>0.000000</td>\n",
       "    </tr>\n",
       "    <tr>\n",
       "      <th>25%</th>\n",
       "      <td>12327.250000</td>\n",
       "      <td>6.000000</td>\n",
       "      <td>5.000000</td>\n",
       "      <td>0.000000</td>\n",
       "      <td>8.000000</td>\n",
       "      <td>22939.079024</td>\n",
       "      <td>NaN</td>\n",
       "      <td>0.000000</td>\n",
       "      <td>0.000000</td>\n",
       "      <td>0.000000</td>\n",
       "      <td>...</td>\n",
       "      <td>0.000000</td>\n",
       "      <td>0.000000</td>\n",
       "      <td>0.000000</td>\n",
       "      <td>0.000000</td>\n",
       "      <td>0.000000</td>\n",
       "      <td>0.000000</td>\n",
       "      <td>0.000000</td>\n",
       "      <td>0.000000</td>\n",
       "      <td>0.000000</td>\n",
       "      <td>0.000000</td>\n",
       "    </tr>\n",
       "    <tr>\n",
       "      <th>50%</th>\n",
       "      <td>26044.000000</td>\n",
       "      <td>7.000000</td>\n",
       "      <td>7.000000</td>\n",
       "      <td>1.000000</td>\n",
       "      <td>9.000000</td>\n",
       "      <td>47311.827957</td>\n",
       "      <td>NaN</td>\n",
       "      <td>0.000000</td>\n",
       "      <td>0.000000</td>\n",
       "      <td>0.000000</td>\n",
       "      <td>...</td>\n",
       "      <td>0.000000</td>\n",
       "      <td>0.000000</td>\n",
       "      <td>1.000000</td>\n",
       "      <td>0.000000</td>\n",
       "      <td>0.000000</td>\n",
       "      <td>0.000000</td>\n",
       "      <td>0.000000</td>\n",
       "      <td>0.000000</td>\n",
       "      <td>0.000000</td>\n",
       "      <td>0.000000</td>\n",
       "    </tr>\n",
       "    <tr>\n",
       "      <th>75%</th>\n",
       "      <td>41506.500000</td>\n",
       "      <td>8.000000</td>\n",
       "      <td>8.000000</td>\n",
       "      <td>2.000000</td>\n",
       "      <td>10.000000</td>\n",
       "      <td>75268.817204</td>\n",
       "      <td>NaN</td>\n",
       "      <td>0.000000</td>\n",
       "      <td>1.000000</td>\n",
       "      <td>1.000000</td>\n",
       "      <td>...</td>\n",
       "      <td>0.000000</td>\n",
       "      <td>0.000000</td>\n",
       "      <td>1.000000</td>\n",
       "      <td>0.000000</td>\n",
       "      <td>0.000000</td>\n",
       "      <td>1.000000</td>\n",
       "      <td>0.000000</td>\n",
       "      <td>0.000000</td>\n",
       "      <td>1.000000</td>\n",
       "      <td>0.000000</td>\n",
       "    </tr>\n",
       "    <tr>\n",
       "      <th>max</th>\n",
       "      <td>51391.000000</td>\n",
       "      <td>10.000000</td>\n",
       "      <td>10.000000</td>\n",
       "      <td>40.000000</td>\n",
       "      <td>10.000000</td>\n",
       "      <td>197000.000000</td>\n",
       "      <td>NaN</td>\n",
       "      <td>1.000000</td>\n",
       "      <td>1.000000</td>\n",
       "      <td>1.000000</td>\n",
       "      <td>...</td>\n",
       "      <td>1.000000</td>\n",
       "      <td>1.000000</td>\n",
       "      <td>1.000000</td>\n",
       "      <td>1.000000</td>\n",
       "      <td>1.000000</td>\n",
       "      <td>1.000000</td>\n",
       "      <td>1.000000</td>\n",
       "      <td>1.000000</td>\n",
       "      <td>1.000000</td>\n",
       "      <td>1.000000</td>\n",
       "    </tr>\n",
       "  </tbody>\n",
       "</table>\n",
       "<p>8 rows × 13634 columns</p>\n",
       "</div>"
      ],
      "text/plain": [
       "         Respondent  CareerSatisfaction  JobSatisfaction  HoursPerWeek  \\\n",
       "count   5338.000000         5338.000000      5338.000000   5338.000000   \n",
       "mean   26230.404271            7.225553         6.364556      2.492319   \n",
       "std    15785.165900            1.800861         2.137602      5.044754   \n",
       "min       26.000000            0.000000         0.000000      0.000000   \n",
       "25%    12327.250000            6.000000         5.000000      0.000000   \n",
       "50%    26044.000000            7.000000         7.000000      1.000000   \n",
       "75%    41506.500000            8.000000         8.000000      2.000000   \n",
       "max    51391.000000           10.000000        10.000000     40.000000   \n",
       "\n",
       "       StackOverflowSatisfaction         Salary  ExpectedSalary  \\\n",
       "count                5338.000000    5338.000000             0.0   \n",
       "mean                    8.517422   53530.111740             NaN   \n",
       "std                     1.325927   39230.307209             NaN   \n",
       "min                     0.000000       0.000000             NaN   \n",
       "25%                     8.000000   22939.079024             NaN   \n",
       "50%                     9.000000   47311.827957             NaN   \n",
       "75%                    10.000000   75268.817204             NaN   \n",
       "max                    10.000000  197000.000000             NaN   \n",
       "\n",
       "       ProgramHobby_Yes, I contribute to open source projects  \\\n",
       "count                                        5338.000000        \n",
       "mean                                            0.057512        \n",
       "std                                             0.232840        \n",
       "min                                             0.000000        \n",
       "25%                                             0.000000        \n",
       "50%                                             0.000000        \n",
       "75%                                             0.000000        \n",
       "max                                             1.000000        \n",
       "\n",
       "       ProgramHobby_Yes, I program as a hobby  ProgramHobby_Yes, both  ...  \\\n",
       "count                             5338.000000             5338.000000  ...   \n",
       "mean                                 0.476770                0.289622  ...   \n",
       "std                                  0.499507                0.453629  ...   \n",
       "min                                  0.000000                0.000000  ...   \n",
       "25%                                  0.000000                0.000000  ...   \n",
       "50%                                  0.000000                0.000000  ...   \n",
       "75%                                  1.000000                1.000000  ...   \n",
       "max                                  1.000000                1.000000  ...   \n",
       "\n",
       "       QuestionsInteresting_Strongly agree  \\\n",
       "count                          5338.000000   \n",
       "mean                              0.084489   \n",
       "std                               0.278145   \n",
       "min                               0.000000   \n",
       "25%                               0.000000   \n",
       "50%                               0.000000   \n",
       "75%                               0.000000   \n",
       "max                               1.000000   \n",
       "\n",
       "       QuestionsInteresting_Strongly disagree  QuestionsConfusing_Disagree  \\\n",
       "count                             5338.000000                  5338.000000   \n",
       "mean                                 0.005058                     0.586924   \n",
       "std                                  0.070947                     0.492432   \n",
       "min                                  0.000000                     0.000000   \n",
       "25%                                  0.000000                     0.000000   \n",
       "50%                                  0.000000                     1.000000   \n",
       "75%                                  0.000000                     1.000000   \n",
       "max                                  1.000000                     1.000000   \n",
       "\n",
       "       QuestionsConfusing_Somewhat agree  QuestionsConfusing_Strongly agree  \\\n",
       "count                        5338.000000                        5338.000000   \n",
       "mean                            0.076058                           0.001686   \n",
       "std                             0.265116                           0.041030   \n",
       "min                             0.000000                           0.000000   \n",
       "25%                             0.000000                           0.000000   \n",
       "50%                             0.000000                           0.000000   \n",
       "75%                             0.000000                           0.000000   \n",
       "max                             1.000000                           1.000000   \n",
       "\n",
       "       QuestionsConfusing_Strongly disagree  InterestedAnswers_Disagree  \\\n",
       "count                           5338.000000                 5338.000000   \n",
       "mean                               0.282128                    0.014987   \n",
       "std                                0.450078                    0.121512   \n",
       "min                                0.000000                    0.000000   \n",
       "25%                                0.000000                    0.000000   \n",
       "50%                                0.000000                    0.000000   \n",
       "75%                                1.000000                    0.000000   \n",
       "max                                1.000000                    1.000000   \n",
       "\n",
       "       InterestedAnswers_Somewhat agree  InterestedAnswers_Strongly agree  \\\n",
       "count                       5338.000000                       5338.000000   \n",
       "mean                           0.093106                          0.442862   \n",
       "std                            0.290608                          0.496771   \n",
       "min                            0.000000                          0.000000   \n",
       "25%                            0.000000                          0.000000   \n",
       "50%                            0.000000                          0.000000   \n",
       "75%                            0.000000                          1.000000   \n",
       "max                            1.000000                          1.000000   \n",
       "\n",
       "       InterestedAnswers_Strongly disagree  \n",
       "count                          5338.000000  \n",
       "mean                              0.008055  \n",
       "std                               0.089398  \n",
       "min                               0.000000  \n",
       "25%                               0.000000  \n",
       "50%                               0.000000  \n",
       "75%                               0.000000  \n",
       "max                               1.000000  \n",
       "\n",
       "[8 rows x 13634 columns]"
      ]
     },
     "execution_count": 24,
     "metadata": {},
     "output_type": "execute_result"
    }
   ],
   "source": [
    "for var in  cat_vars_int:\n",
    "    # for each cat add dummy var, drop original column\n",
    "    df = pd.concat([df.drop(var, axis=1), pd.get_dummies(df[var], prefix=var, prefix_sep='_', drop_first=True)], axis=1)\n",
    "\n",
    "df.describe()"
   ]
  },
  {
   "cell_type": "code",
   "execution_count": 25,
   "metadata": {},
   "outputs": [],
   "source": [
    "\n",
    "\n",
    "### Because we have more rows than number of variables, it is actually possible\n",
    "### for us to build a model that uses all of the columns to predict the response...\n",
    "### Whether this is actually a good idea or not is up for debate - let's maybe\n",
    "### choose some variables that seem like they might be related to salary and go from there.\n",
    "\n",
    "### You can also see that the nulls are still dropped after dummy encoding, which means\n",
    "### we will again need to figure out what to do with rows where those values are null.\n",
    "### It might be okay to just use the mode of the dataset to fill in those values - though\n",
    "### in reality, a lack of answer is maybe an indication that your answer is different \n",
    "### from the group and therefore, you didn't want to answer the question.\n",
    "\n",
    "### We know there are 12891 non-NaN salaries to predict based on the previous model - so we\n",
    "### want to make sure we can predict all of these salaries with our new model as well, but now\n",
    "### unlike the 5 columns we had to choose from before we have more than 40,000 to choose from.\n",
    "### This could be a great place for some PCA or PLS, but I would like to try and keep \n",
    "### the interpretability of the features as much as possible... so I am just going to\n",
    "### use the original features. \n",
    "\n",
    "### We could try even adding interactions or other combinations of these features, but again\n",
    "### this would make our features less interpretable. So you have to weigh the pros and cons\n",
    "### of adding these features."
   ]
  },
  {
   "cell_type": "code",
   "execution_count": 26,
   "metadata": {},
   "outputs": [
    {
     "data": {
      "text/plain": [
       "(5338, 13639)"
      ]
     },
     "execution_count": 26,
     "metadata": {},
     "output_type": "execute_result"
    }
   ],
   "source": [
    "df_result = pd.concat([df, df_fillna], axis=1, join='inner')\n",
    "df_result.shape"
   ]
  },
  {
   "cell_type": "code",
   "execution_count": 27,
   "metadata": {},
   "outputs": [
    {
     "data": {
      "text/html": [
       "<div>\n",
       "<style scoped>\n",
       "    .dataframe tbody tr th:only-of-type {\n",
       "        vertical-align: middle;\n",
       "    }\n",
       "\n",
       "    .dataframe tbody tr th {\n",
       "        vertical-align: top;\n",
       "    }\n",
       "\n",
       "    .dataframe thead th {\n",
       "        text-align: right;\n",
       "    }\n",
       "</style>\n",
       "<table border=\"1\" class=\"dataframe\">\n",
       "  <thead>\n",
       "    <tr style=\"text-align: right;\">\n",
       "      <th></th>\n",
       "      <th>Salary</th>\n",
       "      <th>Salary</th>\n",
       "    </tr>\n",
       "  </thead>\n",
       "  <tbody>\n",
       "    <tr>\n",
       "      <th>25</th>\n",
       "      <td>175000.000000</td>\n",
       "      <td>175000.000000</td>\n",
       "    </tr>\n",
       "    <tr>\n",
       "      <th>34</th>\n",
       "      <td>14838.709677</td>\n",
       "      <td>14838.709677</td>\n",
       "    </tr>\n",
       "    <tr>\n",
       "      <th>52</th>\n",
       "      <td>15674.203822</td>\n",
       "      <td>15674.203822</td>\n",
       "    </tr>\n",
       "    <tr>\n",
       "      <th>57</th>\n",
       "      <td>43010.752688</td>\n",
       "      <td>43010.752688</td>\n",
       "    </tr>\n",
       "    <tr>\n",
       "      <th>70</th>\n",
       "      <td>65000.000000</td>\n",
       "      <td>65000.000000</td>\n",
       "    </tr>\n",
       "  </tbody>\n",
       "</table>\n",
       "</div>"
      ],
      "text/plain": [
       "           Salary         Salary\n",
       "25  175000.000000  175000.000000\n",
       "34   14838.709677   14838.709677\n",
       "52   15674.203822   15674.203822\n",
       "57   43010.752688   43010.752688\n",
       "70   65000.000000   65000.000000"
      ]
     },
     "execution_count": 27,
     "metadata": {},
     "output_type": "execute_result"
    }
   ],
   "source": [
    "df_result['Salary'].head()['Salary']"
   ]
  },
  {
   "cell_type": "code",
   "execution_count": 28,
   "metadata": {},
   "outputs": [],
   "source": [
    "df_result = df_result.iloc[:,~df_result.columns.duplicated()]"
   ]
  },
  {
   "cell_type": "code",
   "execution_count": 29,
   "metadata": {},
   "outputs": [
    {
     "data": {
      "text/plain": [
       "(5338, 13634)"
      ]
     },
     "execution_count": 29,
     "metadata": {},
     "output_type": "execute_result"
    }
   ],
   "source": [
    "df_result.shape"
   ]
  },
  {
   "cell_type": "code",
   "execution_count": 30,
   "metadata": {},
   "outputs": [],
   "source": [
    "### Now we have no duplicated columns, we can focus on which of our new columns (and the \n",
    "### previously used columns) we would like to use to try and predict the response.  We might\n",
    "### just go based on intuition, or we could try to find the variables that are most correlated\n",
    "### Don't get too high of hopes - having a quant variable correlated with a 1-0 variable\n",
    "### is not really what correlation coefficients are designed to detect.  They are meant\n",
    "### to find linear relationships between quant variables. Though correlations are not built for\n",
    "### finding these relations - they can still give a sense of which variables are best related\n",
    "\n",
    "\n",
    "### Actually if you try to build the correlation matrix... it might run for a long time, and\n",
    "### not be very legible anyway... Let's just fit some stuff that seems interesting \n",
    "### and intuitive."
   ]
  },
  {
   "cell_type": "code",
   "execution_count": 31,
   "metadata": {},
   "outputs": [],
   "source": [
    "### Given how many columns we have to use - let's just drop all of the columns that have any\n",
    "### missing values\n",
    "\n",
    "df_result = df_result.dropna(axis=1, how='any')"
   ]
  },
  {
   "cell_type": "code",
   "execution_count": 32,
   "metadata": {},
   "outputs": [
    {
     "data": {
      "text/plain": [
       "(5338, 13633)"
      ]
     },
     "execution_count": 32,
     "metadata": {},
     "output_type": "execute_result"
    }
   ],
   "source": [
    "df_result.shape # which is only 6, sooo that kind of sucks at narrowing down this mess..."
   ]
  },
  {
   "cell_type": "code",
   "execution_count": 33,
   "metadata": {},
   "outputs": [],
   "source": [
    "y = df_result['Salary']\n",
    "X = df_result.drop(['Respondent', 'Salary'], axis=1)"
   ]
  },
  {
   "cell_type": "code",
   "execution_count": 34,
   "metadata": {},
   "outputs": [],
   "source": [
    "#X_train, X_test, y_train, y_test = train_test_split(X, y, test_size = .30, random_state=42)\n",
    "\n",
    "#lm_model = LinearRegression(normalize=True) # Here you could set any hyperparameters of your model\n",
    "#lm_model.fit(X_train, y_train) # If this model was to predict for new individuals, we probably would want\n",
    "               # worry about train/test splits and cross-validation, but for now I am most \n",
    "               # interested in finding a model that just fits all of the data well\n",
    "\n",
    "        \n",
    "#y_test_preds = lm_model.predict(X_test) #We can then use our fitted model to predict the salary for each\n",
    "                                        #indvidual in our test set, and see how well these predictions\n",
    "                                        #match the truth.\n",
    "\n",
    "#print(r2_score(y_test, y_test_preds)) #In this case we are predicting a continuous, numeric response.  Therefore, common\n",
    "#print(mean_squared_error(y_test, y_test_preds)) #metrics to assess fit include Rsquared and MSE.  \n",
    "## Filling in the missing values does appear to have helped based on a preliminary check\n"
   ]
  },
  {
   "cell_type": "code",
   "execution_count": 35,
   "metadata": {},
   "outputs": [],
   "source": [
    "#print(r2_score(y_train, lm_model.predict(X_train)))\n",
    "#print(mean_squared_error(y_train, lm_model.predict(X_train))) # What does this mean?"
   ]
  },
  {
   "cell_type": "markdown",
   "metadata": {},
   "source": [
    "To combat the overfitting we have a number of options, but one way that would also reduce our run time would be to remove columns from our dataframe.  You will notice that sklearn does not provide pvals back for our coefficients, but it performs ridge regression by default.  So, therefore, we can consider that columns that have larger coefficients are also more useful for predicting our response variable.  How large is large enough to consider keeping? Well, that is a great question, and I also don't have a great answer...  We can try some stuff and see what works. "
   ]
  },
  {
   "cell_type": "markdown",
   "metadata": {},
   "source": [
    "Then we can also run cross-validation and aggregate our results to combat the overfitting we saw earlier using this reduced X matrix."
   ]
  },
  {
   "cell_type": "code",
   "execution_count": 36,
   "metadata": {},
   "outputs": [
    {
     "data": {
      "text/plain": [
       "(5338, 1647)"
      ]
     },
     "execution_count": 36,
     "metadata": {},
     "output_type": "execute_result"
    }
   ],
   "source": [
    "# You could deal with these rare events in different ways - you could consider them as great predictors\n",
    "# I am going to remove them - as I feel like they are likely not that indicative of other individuals\n",
    "# I want to find overriding truths about the individuals who receive particular salaries.\n",
    "# So, let's only consider columns where there are more than 1000 of the level of interest in the column.\n",
    "\n",
    "reduce_X = X.iloc[:, np.where((X.sum() > 10) == True)[0]]\n",
    "reduce_X.shape"
   ]
  },
  {
   "cell_type": "code",
   "execution_count": 37,
   "metadata": {},
   "outputs": [
    {
     "name": "stdout",
     "output_type": "stream",
     "text": [
      "0.6239284889025047\n",
      "600152061.5153048\n"
     ]
    }
   ],
   "source": [
    "X_train, X_test, y_train, y_test = train_test_split(reduce_X, y, test_size = .30, random_state=42)\n",
    "\n",
    "lm_model = LinearRegression(normalize=True) # Here you could set any hyperparameters of your model\n",
    "lm_model.fit(X_train, y_train) # If this model was to predict for new individuals, we probably would want\n",
    "               # worry about train/test splits and cross-validation, but for now I am most \n",
    "               # interested in finding a model that just fits all of the data well\n",
    "\n",
    "        \n",
    "y_test_preds = lm_model.predict(X_test) #We can then use our fitted model to predict the salary for each\n",
    "                                        #indvidual in our test set, and see how well these predictions\n",
    "                                        #match the truth.\n",
    "\n",
    "print(r2_score(y_test, y_test_preds)) #In this case we are predicting a continuous, numeric response.  Therefore, common\n",
    "print(mean_squared_error(y_test, y_test_preds)) #metrics to assess fit include Rsquared and MSE.  \n",
    "## Filling in the missing values does appear to have helped based on a preliminary check"
   ]
  },
  {
   "cell_type": "code",
   "execution_count": 38,
   "metadata": {},
   "outputs": [
    {
     "name": "stdout",
     "output_type": "stream",
     "text": [
      "0.878046255121941\n",
      "184664657.9055973\n"
     ]
    }
   ],
   "source": [
    "print(r2_score(y_train, lm_model.predict(X_train))) #In this case we are predicting a continuous, numeric response.  Therefore, common\n",
    "print(mean_squared_error(y_train, lm_model.predict(X_train))) #metrics to assess fit include Rsquared and MSE.  \n",
    "## Filling in the missing values does appear to have helped based on a preliminary check"
   ]
  },
  {
   "cell_type": "code",
   "execution_count": 39,
   "metadata": {},
   "outputs": [],
   "source": [
    "### Let's see what be the best number of features to use based on the test set performance\n",
    "def find_optimal_lm_mod(X, y, cutoffs, test_size = .30, random_state=42, plot=True):\n",
    "    '''\n",
    "    INPUT\n",
    "    X - pandas dataframe, X matrix\n",
    "    y - pandas dataframe, response variable\n",
    "    cutoffs - list of ints, cutoff for number of non-zero values in dummy categorical vars\n",
    "    test_size - float between 0 and 1, default 0.3, determines the proportion of data as test data\n",
    "    random_state - int, default 42, controls random state for train_test_split\n",
    "    plot - boolean, default 0.3, True to plot result\n",
    "    \n",
    "    OUTPUT\n",
    "    r2_scores_test - list of floats of r2 scores on the test data\n",
    "    r2_scores_train - list of floats of r2 scores on the train data\n",
    "    lm_model - model object from sklearn\n",
    "    X_train, X_test, y_train, y_test - output from sklearn train test split used for optimal model\n",
    "    '''\n",
    "    r2_scores_test, r2_scores_train, num_feats, results = [], [], [], dict()\n",
    "    for cutoff in cutoffs:\n",
    "        \n",
    "        #reduce X matrix\n",
    "        reduce_X = X.iloc[:, np.where((X.sum() > cutoff) == True)[0]]\n",
    "        num_feats.append(reduce_X.shape[1])\n",
    "\n",
    "        #split the data into train and test\n",
    "        X_train, X_test, y_train, y_test = train_test_split(reduce_X, y, test_size = test_size, random_state=random_state)\n",
    "\n",
    "        #fit the model and obtain pred response\n",
    "        lm_model = LinearRegression(normalize=True) \n",
    "        lm_model.fit(X_train, y_train)\n",
    "        y_test_preds = lm_model.predict(X_test)\n",
    "        y_train_preds = lm_model.predict(X_train)\n",
    "        \n",
    "        #append the r2 value from the test set\n",
    "        r2_scores_test.append(r2_score(y_test, y_test_preds))\n",
    "        r2_scores_train.append(r2_score(y_train, y_train_preds))\n",
    "        results[str(cutoff)] = r2_score(y_test, y_test_preds)\n",
    "    \n",
    "    if plot:\n",
    "        plt.plot(num_feats, r2_scores_test, label=\"Test\", alpha=.5)\n",
    "        plt.plot(num_feats, r2_scores_train, label=\"Train\", alpha=.5)\n",
    "        plt.xlabel('Number of Features')\n",
    "        plt.ylabel('Rsquared')\n",
    "        plt.title('Rsquared by Number of Features')\n",
    "        plt.legend(loc=1)\n",
    "        plt.show()\n",
    "        \n",
    "    best_cutoff = max(results, key=results.get)\n",
    "    \n",
    "    #reduce X matrix\n",
    "    reduce_X = X.iloc[:, np.where((X.sum() > int(best_cutoff)) == True)[0]]\n",
    "    num_feats.append(reduce_X.shape[1])\n",
    "\n",
    "    #split the data into train and test\n",
    "    X_train, X_test, y_train, y_test = train_test_split(reduce_X, y, test_size = test_size, random_state=random_state)\n",
    "\n",
    "    #fit the model\n",
    "    lm_model = LinearRegression(normalize=True) \n",
    "    lm_model.fit(X_train, y_train)\n",
    "        \n",
    "    return r2_scores_test, r2_scores_train, lm_model, X_train, X_test, y_train, y_test"
   ]
  },
  {
   "cell_type": "code",
   "execution_count": 40,
   "metadata": {},
   "outputs": [
    {
     "data": {
      "image/png": "[encoded data removed]",
      "text/plain": [
       "<Figure size 432x288 with 1 Axes>"
      ]
     },
     "metadata": {
      "needs_background": "light"
     },
     "output_type": "display_data"
    }
   ],
   "source": [
    "cutoffs = [5000, 3500, 2500, 1000, 100, 50, 30, 20, 10, 5]\n",
    "r2_scores_test, r2_scores_train, lm_model, X_train, X_test, y_train, y_test = find_optimal_lm_mod(X, y, cutoffs)"
   ]
  },
  {
   "cell_type": "code",
   "execution_count": 41,
   "metadata": {},
   "outputs": [
    {
     "data": {
      "text/plain": [
       "(3736, 718)"
      ]
     },
     "execution_count": 41,
     "metadata": {},
     "output_type": "execute_result"
    }
   ],
   "source": [
    "#______Video 4 Creating Dummy Variables & Other Alternatives for Categorical Variables____#\n",
    "\n",
    "\n",
    "\n",
    "\n",
    "### Now that we have the best model in terms of the r2 on the test data, we can use this model to see which features\n",
    "### appear to be most important, and what impact they have on salary.\n",
    "\n",
    "X_train.shape # we have 1081 features in the optimal model - let's look at some of them\n"
   ]
  },
  {
   "cell_type": "code",
   "execution_count": 42,
   "metadata": {},
   "outputs": [
    {
     "data": {
      "image/png": "[encoded data removed]",
      "text/plain": [
       "<Figure size 432x288 with 1 Axes>"
      ]
     },
     "metadata": {
      "needs_background": "light"
     },
     "output_type": "display_data"
    }
   ],
   "source": [
    "y_test_preds = lm_model.predict(X_test)\n",
    "\n",
    "preds_vs_act = pd.DataFrame(np.hstack([y_test.values.reshape(y_test.size,1), y_test_preds.reshape(y_test.size,1)]))\n",
    "preds_vs_act.columns = ['actual', 'preds']\n",
    "preds_vs_act['diff'] = preds_vs_act['actual'] - preds_vs_act['preds']\n",
    "\n",
    "plt.plot(preds_vs_act['preds'], preds_vs_act['diff'], 'bo');\n",
    "plt.xlabel('predicted');\n",
    "plt.ylabel('difference');"
   ]
  },
  {
   "cell_type": "code",
   "execution_count": 43,
   "metadata": {},
   "outputs": [
    {
     "data": {
      "image/png": "[encoded data removed]",
      "text/plain": [
       "<Figure size 432x288 with 1 Axes>"
      ]
     },
     "metadata": {
      "needs_background": "light"
     },
     "output_type": "display_data"
    }
   ],
   "source": [
    "plt.plot(preds_vs_act['preds'], preds_vs_act['actual'], 'bo');\n",
    "plt.xlabel('predicted');\n",
    "plt.ylabel('actual'); #there appears to be a slight positive trend like we would want to see"
   ]
  },
  {
   "cell_type": "code",
   "execution_count": 44,
   "metadata": {},
   "outputs": [
    {
     "data": {
      "text/html": [
       "<div>\n",
       "<style scoped>\n",
       "    .dataframe tbody tr th:only-of-type {\n",
       "        vertical-align: middle;\n",
       "    }\n",
       "\n",
       "    .dataframe tbody tr th {\n",
       "        vertical-align: top;\n",
       "    }\n",
       "\n",
       "    .dataframe thead th {\n",
       "        text-align: right;\n",
       "    }\n",
       "</style>\n",
       "<table border=\"1\" class=\"dataframe\">\n",
       "  <thead>\n",
       "    <tr style=\"text-align: right;\">\n",
       "      <th></th>\n",
       "      <th>est_int</th>\n",
       "      <th>coefs</th>\n",
       "      <th>abs_coefs</th>\n",
       "    </tr>\n",
       "  </thead>\n",
       "  <tbody>\n",
       "    <tr>\n",
       "      <th>316</th>\n",
       "      <td>Currency_Swiss francs</td>\n",
       "      <td>85034.904443</td>\n",
       "      <td>85034.904443</td>\n",
       "    </tr>\n",
       "    <tr>\n",
       "      <th>23</th>\n",
       "      <td>Country_United States</td>\n",
       "      <td>51638.654933</td>\n",
       "      <td>51638.654933</td>\n",
       "    </tr>\n",
       "    <tr>\n",
       "      <th>7</th>\n",
       "      <td>Country_Australia</td>\n",
       "      <td>33914.865239</td>\n",
       "      <td>33914.865239</td>\n",
       "    </tr>\n",
       "    <tr>\n",
       "      <th>10</th>\n",
       "      <td>Country_Canada</td>\n",
       "      <td>33495.406237</td>\n",
       "      <td>33495.406237</td>\n",
       "    </tr>\n",
       "    <tr>\n",
       "      <th>21</th>\n",
       "      <td>Country_Switzerland</td>\n",
       "      <td>-30361.893012</td>\n",
       "      <td>30361.893012</td>\n",
       "    </tr>\n",
       "    <tr>\n",
       "      <th>313</th>\n",
       "      <td>Currency_Polish zloty (zl)</td>\n",
       "      <td>-29252.891198</td>\n",
       "      <td>29252.891198</td>\n",
       "    </tr>\n",
       "    <tr>\n",
       "      <th>100</th>\n",
       "      <td>YearsCodedJob_20 or more years</td>\n",
       "      <td>29057.486766</td>\n",
       "      <td>29057.486766</td>\n",
       "    </tr>\n",
       "    <tr>\n",
       "      <th>315</th>\n",
       "      <td>Currency_Swedish kroner (SEK)</td>\n",
       "      <td>27655.219234</td>\n",
       "      <td>27655.219234</td>\n",
       "    </tr>\n",
       "    <tr>\n",
       "      <th>96</th>\n",
       "      <td>YearsCodedJob_17 to 18 years</td>\n",
       "      <td>26357.991174</td>\n",
       "      <td>26357.991174</td>\n",
       "    </tr>\n",
       "    <tr>\n",
       "      <th>91</th>\n",
       "      <td>YearsCodedJob_12 to 13 years</td>\n",
       "      <td>24836.247935</td>\n",
       "      <td>24836.247935</td>\n",
       "    </tr>\n",
       "    <tr>\n",
       "      <th>93</th>\n",
       "      <td>YearsCodedJob_14 to 15 years</td>\n",
       "      <td>23409.076335</td>\n",
       "      <td>23409.076335</td>\n",
       "    </tr>\n",
       "    <tr>\n",
       "      <th>94</th>\n",
       "      <td>YearsCodedJob_15 to 16 years</td>\n",
       "      <td>22762.875587</td>\n",
       "      <td>22762.875587</td>\n",
       "    </tr>\n",
       "    <tr>\n",
       "      <th>97</th>\n",
       "      <td>YearsCodedJob_18 to 19 years</td>\n",
       "      <td>22642.804696</td>\n",
       "      <td>22642.804696</td>\n",
       "    </tr>\n",
       "    <tr>\n",
       "      <th>98</th>\n",
       "      <td>YearsCodedJob_19 to 20 years</td>\n",
       "      <td>22309.581155</td>\n",
       "      <td>22309.581155</td>\n",
       "    </tr>\n",
       "    <tr>\n",
       "      <th>95</th>\n",
       "      <td>YearsCodedJob_16 to 17 years</td>\n",
       "      <td>21586.392349</td>\n",
       "      <td>21586.392349</td>\n",
       "    </tr>\n",
       "    <tr>\n",
       "      <th>314</th>\n",
       "      <td>Currency_Russian rubles (?)</td>\n",
       "      <td>-20722.119522</td>\n",
       "      <td>20722.119522</td>\n",
       "    </tr>\n",
       "    <tr>\n",
       "      <th>20</th>\n",
       "      <td>Country_Sweden</td>\n",
       "      <td>-19920.329857</td>\n",
       "      <td>19920.329857</td>\n",
       "    </tr>\n",
       "    <tr>\n",
       "      <th>92</th>\n",
       "      <td>YearsCodedJob_13 to 14 years</td>\n",
       "      <td>18540.629292</td>\n",
       "      <td>18540.629292</td>\n",
       "    </tr>\n",
       "    <tr>\n",
       "      <th>17</th>\n",
       "      <td>Country_Poland</td>\n",
       "      <td>18219.824975</td>\n",
       "      <td>18219.824975</td>\n",
       "    </tr>\n",
       "    <tr>\n",
       "      <th>12</th>\n",
       "      <td>Country_Germany</td>\n",
       "      <td>17512.507440</td>\n",
       "      <td>17512.507440</td>\n",
       "    </tr>\n",
       "  </tbody>\n",
       "</table>\n",
       "</div>"
      ],
      "text/plain": [
       "                            est_int         coefs     abs_coefs\n",
       "316           Currency_Swiss francs  85034.904443  85034.904443\n",
       "23            Country_United States  51638.654933  51638.654933\n",
       "7                 Country_Australia  33914.865239  33914.865239\n",
       "10                   Country_Canada  33495.406237  33495.406237\n",
       "21              Country_Switzerland -30361.893012  30361.893012\n",
       "313      Currency_Polish zloty (zl) -29252.891198  29252.891198\n",
       "100  YearsCodedJob_20 or more years  29057.486766  29057.486766\n",
       "315   Currency_Swedish kroner (SEK)  27655.219234  27655.219234\n",
       "96     YearsCodedJob_17 to 18 years  26357.991174  26357.991174\n",
       "91     YearsCodedJob_12 to 13 years  24836.247935  24836.247935\n",
       "93     YearsCodedJob_14 to 15 years  23409.076335  23409.076335\n",
       "94     YearsCodedJob_15 to 16 years  22762.875587  22762.875587\n",
       "97     YearsCodedJob_18 to 19 years  22642.804696  22642.804696\n",
       "98     YearsCodedJob_19 to 20 years  22309.581155  22309.581155\n",
       "95     YearsCodedJob_16 to 17 years  21586.392349  21586.392349\n",
       "314     Currency_Russian rubles (?) -20722.119522  20722.119522\n",
       "20                   Country_Sweden -19920.329857  19920.329857\n",
       "92     YearsCodedJob_13 to 14 years  18540.629292  18540.629292\n",
       "17                   Country_Poland  18219.824975  18219.824975\n",
       "12                  Country_Germany  17512.507440  17512.507440"
      ]
     },
     "execution_count": 44,
     "metadata": {},
     "output_type": "execute_result"
    }
   ],
   "source": [
    "coefs_df = pd.DataFrame()\n",
    "\n",
    "coefs_df['est_int'] = X_train.columns\n",
    "coefs_df['coefs'] = lm_model.coef_\n",
    "coefs_df['abs_coefs'] = np.abs(lm_model.coef_)\n",
    "\n",
    "coefs_df.sort_values('abs_coefs', ascending=False).head(20)"
   ]
  },
  {
   "cell_type": "code",
   "execution_count": 45,
   "metadata": {},
   "outputs": [
    {
     "data": {
      "text/plain": [
       "18708.62311512718"
      ]
     },
     "execution_count": 45,
     "metadata": {},
     "output_type": "execute_result"
    }
   ],
   "source": [
    "lm_model.intercept_"
   ]
  },
  {
   "cell_type": "code",
   "execution_count": 46,
   "metadata": {},
   "outputs": [
    {
     "ename": "KeyError",
     "evalue": "'Professional_Professional developer'",
     "output_type": "error",
     "traceback": [
      "\u001b[0;31m---------------------------------------------------------------------------\u001b[0m",
      "\u001b[0;31mKeyError\u001b[0m                                  Traceback (most recent call last)",
      "\u001b[0;32m~/opt/anaconda3/lib/python3.8/site-packages/pandas/core/indexes/base.py\u001b[0m in \u001b[0;36mget_loc\u001b[0;34m(self, key, method, tolerance)\u001b[0m\n\u001b[1;32m   3079\u001b[0m             \u001b[0;32mtry\u001b[0m\u001b[0;34m:\u001b[0m\u001b[0;34m\u001b[0m\u001b[0;34m\u001b[0m\u001b[0m\n\u001b[0;32m-> 3080\u001b[0;31m                 \u001b[0;32mreturn\u001b[0m \u001b[0mself\u001b[0m\u001b[0;34m.\u001b[0m\u001b[0m_engine\u001b[0m\u001b[0;34m.\u001b[0m\u001b[0mget_loc\u001b[0m\u001b[0;34m(\u001b[0m\u001b[0mcasted_key\u001b[0m\u001b[0;34m)\u001b[0m\u001b[0;34m\u001b[0m\u001b[0;34m\u001b[0m\u001b[0m\n\u001b[0m\u001b[1;32m   3081\u001b[0m             \u001b[0;32mexcept\u001b[0m \u001b[0mKeyError\u001b[0m \u001b[0;32mas\u001b[0m \u001b[0merr\u001b[0m\u001b[0;34m:\u001b[0m\u001b[0;34m\u001b[0m\u001b[0;34m\u001b[0m\u001b[0m\n",
      "\u001b[0;32mpandas/_libs/index.pyx\u001b[0m in \u001b[0;36mpandas._libs.index.IndexEngine.get_loc\u001b[0;34m()\u001b[0m\n",
      "\u001b[0;32mpandas/_libs/index.pyx\u001b[0m in \u001b[0;36mpandas._libs.index.IndexEngine.get_loc\u001b[0;34m()\u001b[0m\n",
      "\u001b[0;32mpandas/_libs/hashtable_class_helper.pxi\u001b[0m in \u001b[0;36mpandas._libs.hashtable.PyObjectHashTable.get_item\u001b[0;34m()\u001b[0m\n",
      "\u001b[0;32mpandas/_libs/hashtable_class_helper.pxi\u001b[0m in \u001b[0;36mpandas._libs.hashtable.PyObjectHashTable.get_item\u001b[0;34m()\u001b[0m\n",
      "\u001b[0;31mKeyError\u001b[0m: 'Professional_Professional developer'",
      "\nThe above exception was the direct cause of the following exception:\n",
      "\u001b[0;31mKeyError\u001b[0m                                  Traceback (most recent call last)",
      "\u001b[0;32m<ipython-input-46-3813fb265e7d>\u001b[0m in \u001b[0;36m<module>\u001b[0;34m\u001b[0m\n\u001b[0;32m----> 1\u001b[0;31m \u001b[0mX_train\u001b[0m\u001b[0;34m.\u001b[0m\u001b[0mshape\u001b[0m\u001b[0;34m,\u001b[0m \u001b[0msum\u001b[0m\u001b[0;34m(\u001b[0m\u001b[0mX_train\u001b[0m\u001b[0;34m[\u001b[0m\u001b[0;34m'Professional_Professional developer'\u001b[0m\u001b[0;34m]\u001b[0m\u001b[0;34m)\u001b[0m\u001b[0;34m\u001b[0m\u001b[0;34m\u001b[0m\u001b[0m\n\u001b[0m\u001b[1;32m      2\u001b[0m \u001b[0;34m\u001b[0m\u001b[0m\n\u001b[1;32m      3\u001b[0m \u001b[0;34m\u001b[0m\u001b[0m\n\u001b[1;32m      4\u001b[0m \u001b[0;31m#_____Video 7 Interpretting the results_____#\u001b[0m\u001b[0;34m\u001b[0m\u001b[0;34m\u001b[0m\u001b[0;34m\u001b[0m\u001b[0m\n",
      "\u001b[0;32m~/opt/anaconda3/lib/python3.8/site-packages/pandas/core/frame.py\u001b[0m in \u001b[0;36m__getitem__\u001b[0;34m(self, key)\u001b[0m\n\u001b[1;32m   3022\u001b[0m             \u001b[0;32mif\u001b[0m \u001b[0mself\u001b[0m\u001b[0;34m.\u001b[0m\u001b[0mcolumns\u001b[0m\u001b[0;34m.\u001b[0m\u001b[0mnlevels\u001b[0m \u001b[0;34m>\u001b[0m \u001b[0;36m1\u001b[0m\u001b[0;34m:\u001b[0m\u001b[0;34m\u001b[0m\u001b[0;34m\u001b[0m\u001b[0m\n\u001b[1;32m   3023\u001b[0m                 \u001b[0;32mreturn\u001b[0m \u001b[0mself\u001b[0m\u001b[0;34m.\u001b[0m\u001b[0m_getitem_multilevel\u001b[0m\u001b[0;34m(\u001b[0m\u001b[0mkey\u001b[0m\u001b[0;34m)\u001b[0m\u001b[0;34m\u001b[0m\u001b[0;34m\u001b[0m\u001b[0m\n\u001b[0;32m-> 3024\u001b[0;31m             \u001b[0mindexer\u001b[0m \u001b[0;34m=\u001b[0m \u001b[0mself\u001b[0m\u001b[0;34m.\u001b[0m\u001b[0mcolumns\u001b[0m\u001b[0;34m.\u001b[0m\u001b[0mget_loc\u001b[0m\u001b[0;34m(\u001b[0m\u001b[0mkey\u001b[0m\u001b[0;34m)\u001b[0m\u001b[0;34m\u001b[0m\u001b[0;34m\u001b[0m\u001b[0m\n\u001b[0m\u001b[1;32m   3025\u001b[0m             \u001b[0;32mif\u001b[0m \u001b[0mis_integer\u001b[0m\u001b[0;34m(\u001b[0m\u001b[0mindexer\u001b[0m\u001b[0;34m)\u001b[0m\u001b[0;34m:\u001b[0m\u001b[0;34m\u001b[0m\u001b[0;34m\u001b[0m\u001b[0m\n\u001b[1;32m   3026\u001b[0m                 \u001b[0mindexer\u001b[0m \u001b[0;34m=\u001b[0m \u001b[0;34m[\u001b[0m\u001b[0mindexer\u001b[0m\u001b[0;34m]\u001b[0m\u001b[0;34m\u001b[0m\u001b[0;34m\u001b[0m\u001b[0m\n",
      "\u001b[0;32m~/opt/anaconda3/lib/python3.8/site-packages/pandas/core/indexes/base.py\u001b[0m in \u001b[0;36mget_loc\u001b[0;34m(self, key, method, tolerance)\u001b[0m\n\u001b[1;32m   3080\u001b[0m                 \u001b[0;32mreturn\u001b[0m \u001b[0mself\u001b[0m\u001b[0;34m.\u001b[0m\u001b[0m_engine\u001b[0m\u001b[0;34m.\u001b[0m\u001b[0mget_loc\u001b[0m\u001b[0;34m(\u001b[0m\u001b[0mcasted_key\u001b[0m\u001b[0;34m)\u001b[0m\u001b[0;34m\u001b[0m\u001b[0;34m\u001b[0m\u001b[0m\n\u001b[1;32m   3081\u001b[0m             \u001b[0;32mexcept\u001b[0m \u001b[0mKeyError\u001b[0m \u001b[0;32mas\u001b[0m \u001b[0merr\u001b[0m\u001b[0;34m:\u001b[0m\u001b[0;34m\u001b[0m\u001b[0;34m\u001b[0m\u001b[0m\n\u001b[0;32m-> 3082\u001b[0;31m                 \u001b[0;32mraise\u001b[0m \u001b[0mKeyError\u001b[0m\u001b[0;34m(\u001b[0m\u001b[0mkey\u001b[0m\u001b[0;34m)\u001b[0m \u001b[0;32mfrom\u001b[0m \u001b[0merr\u001b[0m\u001b[0;34m\u001b[0m\u001b[0;34m\u001b[0m\u001b[0m\n\u001b[0m\u001b[1;32m   3083\u001b[0m \u001b[0;34m\u001b[0m\u001b[0m\n\u001b[1;32m   3084\u001b[0m         \u001b[0;32mif\u001b[0m \u001b[0mtolerance\u001b[0m \u001b[0;32mis\u001b[0m \u001b[0;32mnot\u001b[0m \u001b[0;32mNone\u001b[0m\u001b[0;34m:\u001b[0m\u001b[0;34m\u001b[0m\u001b[0;34m\u001b[0m\u001b[0m\n",
      "\u001b[0;31mKeyError\u001b[0m: 'Professional_Professional developer'"
     ]
    }
   ],
   "source": [
    "X_train.shape, sum(X_train['Professional_Professional developer'])\n",
    "\n",
    "\n",
    "#_____Video 7 Interpretting the results_____#"
   ]
  },
  {
   "cell_type": "code",
   "execution_count": null,
   "metadata": {},
   "outputs": [],
   "source": [
    "#____Video 8 - Ensemble Models______#\n",
    "\n",
    "### One of the best out of the box methods for supervised machine learning\n",
    "### is known as the RandomForest - let's see if we can use this model to outperform\n",
    "### The linear model from earlier.\n",
    "\n",
    "from sklearn.ensemble import RandomForestRegressor\n",
    "\n",
    "### Let's see what be the best number of features to use based on the test set performance\n",
    "def find_optimal_rf_mod(X, y, cutoffs, test_size = .30, random_state=42, plot=True):\n",
    "    '''\n",
    "    INPUT\n",
    "    X - pandas dataframe, X matrix\n",
    "    y - pandas dataframe, response variable\n",
    "    cutoffs - list of ints, cutoff for number of non-zero values in dummy categorical vars\n",
    "    test_size - float between 0 and 1, default 0.3, determines the proportion of data as test data\n",
    "    random_state - int, default 42, controls random state for train_test_split\n",
    "    plot - boolean, default 0.3, True to plot result\n",
    "    kwargs - include the arguments you want to pass to the rf model\n",
    "    \n",
    "    OUTPUT\n",
    "    r2_scores_test - list of floats of r2 scores on the test data\n",
    "    r2_scores_train - list of floats of r2 scores on the train data\n",
    "    rf_model - model object from sklearn\n",
    "    X_train, X_test, y_train, y_test - output from sklearn train test split used for optimal model\n",
    "    '''\n",
    "    r2_scores_test, r2_scores_train, num_feats, results = [], [], [], dict()\n",
    "    for cutoff in cutoffs:\n",
    "        \n",
    "        #reduce X matrix\n",
    "        reduce_X = X.iloc[:, np.where((X.sum() > cutoff) == True)[0]]\n",
    "        num_feats.append(reduce_X.shape[1])\n",
    "\n",
    "        #split the data into train and test\n",
    "        X_train, X_test, y_train, y_test = train_test_split(reduce_X, y, test_size = test_size, random_state=random_state)\n",
    "\n",
    "        #fit the model and obtain pred response\n",
    "\n",
    "        rf_model = RandomForestRegressor()  #no normalizing here, but could tune other hyperparameters\n",
    "        rf_model.fit(X_train, y_train)\n",
    "        y_test_preds = rf_model.predict(X_test)\n",
    "        y_train_preds = rf_model.predict(X_train)\n",
    "        \n",
    "        #append the r2 value from the test set\n",
    "        r2_scores_test.append(r2_score(y_test, y_test_preds))\n",
    "        r2_scores_train.append(r2_score(y_train, y_train_preds))\n",
    "        results[str(cutoff)] = r2_score(y_test, y_test_preds)\n",
    "    \n",
    "    if plot:\n",
    "        plt.plot(num_feats, r2_scores_test, label=\"Test\", alpha=.5)\n",
    "        plt.plot(num_feats, r2_scores_train, label=\"Train\", alpha=.5)\n",
    "        plt.xlabel('Number of Features')\n",
    "        plt.ylabel('Rsquared')\n",
    "        plt.title('Rsquared by Number of Features')\n",
    "        plt.legend(loc=1)\n",
    "        plt.show()\n",
    "        \n",
    "    best_cutoff = max(results, key=results.get)\n",
    "    \n",
    "    #reduce X matrix\n",
    "    reduce_X = X.iloc[:, np.where((X.sum() > int(best_cutoff)) == True)[0]]\n",
    "    num_feats.append(reduce_X.shape[1])\n",
    "\n",
    "    #split the data into train and test\n",
    "    X_train, X_test, y_train, y_test = train_test_split(reduce_X, y, test_size = test_size, random_state=random_state)\n",
    "\n",
    "    #fit the model\n",
    "    rf_model = RandomForestRegressor() \n",
    "    rf_model.fit(X_train, y_train)\n",
    "        \n",
    "    return r2_scores_test, r2_scores_train, rf_model, X_train, X_test, y_train, y_test"
   ]
  },
  {
   "cell_type": "code",
   "execution_count": null,
   "metadata": {},
   "outputs": [],
   "source": [
    "cutoffs = [5000, 3500, 2500, 1000, 100, 50, 30, 20, 10, 5]\n",
    "r2_test, r2_train, rf_model, X_train, X_test, y_train, y_test = find_optimal_rf_mod(X, y, cutoffs)"
   ]
  },
  {
   "cell_type": "code",
   "execution_count": null,
   "metadata": {},
   "outputs": [],
   "source": [
    "y_test_preds = rf_model.predict(X_test)\n",
    "\n",
    "preds_vs_act = pd.DataFrame(np.hstack([y_test.values.reshape(y_test.size,1), y_test_preds.reshape(y_test.size,1)]))\n",
    "preds_vs_act.columns = ['actual', 'preds']\n",
    "preds_vs_act['diff'] = preds_vs_act['actual'] - preds_vs_act['preds']\n",
    "\n",
    "plt.plot(preds_vs_act['preds'], preds_vs_act['diff'], 'bo');\n",
    "plt.xlabel('predicted');\n",
    "plt.ylabel('difference');"
   ]
  },
  {
   "cell_type": "code",
   "execution_count": null,
   "metadata": {},
   "outputs": [],
   "source": [
    "#Looks like this overfits quite a bit... "
   ]
  },
  {
   "cell_type": "code",
   "execution_count": null,
   "metadata": {
    "collapsed": true,
    "jupyter": {
     "outputs_hidden": true
    }
   },
   "outputs": [],
   "source": []
  },
  {
   "cell_type": "code",
   "execution_count": null,
   "metadata": {},
   "outputs": [],
   "source": [
    "from sklearn.model_selection import GridSearchCV\n",
    "\n",
    "### Let's see what be the best number of features to use based on the test set performance\n",
    "def find_optimal_rf_mod(X, y, cutoffs, test_size = .30, random_state=42, plot=True, param_grid=None):\n",
    "    '''\n",
    "    INPUT\n",
    "    X - pandas dataframe, X matrix\n",
    "    y - pandas dataframe, response variable\n",
    "    cutoffs - list of ints, cutoff for number of non-zero values in dummy categorical vars\n",
    "    test_size - float between 0 and 1, default 0.3, determines the proportion of data as test data\n",
    "    random_state - int, default 42, controls random state for train_test_split\n",
    "    plot - boolean, default 0.3, True to plot result\n",
    "    kwargs - include the arguments you want to pass to the rf model\n",
    "    \n",
    "    OUTPUT\n",
    "    r2_scores_test - list of floats of r2 scores on the test data\n",
    "    r2_scores_train - list of floats of r2 scores on the train data\n",
    "    rf_model - model object from sklearn\n",
    "    X_train, X_test, y_train, y_test - output from sklearn train test split used for optimal model\n",
    "    '''\n",
    "\n",
    "    r2_scores_test, r2_scores_train, num_feats, results = [], [], [], dict()\n",
    "    for cutoff in cutoffs:\n",
    "\n",
    "        #reduce X matrix\n",
    "        reduce_X = X.iloc[:, np.where((X.sum() > cutoff) == True)[0]]\n",
    "        num_feats.append(reduce_X.shape[1])\n",
    "\n",
    "        #split the data into train and test\n",
    "        X_train, X_test, y_train, y_test = train_test_split(reduce_X, y, test_size = test_size, random_state=random_state)\n",
    "\n",
    "        #fit the model and obtain pred response\n",
    "        if param_grid==None:\n",
    "            rf_model = RandomForestRegressor()  #no normalizing here, but could tune other hyperparameters\n",
    "\n",
    "        else:\n",
    "            rf_inst = RandomForestRegressor(n_jobs=-1, verbose=1)\n",
    "            rf_model = GridSearchCV(rf_inst, param_grid, n_jobs=-1) \n",
    "            \n",
    "        rf_model.fit(X_train, y_train)\n",
    "        y_test_preds = rf_model.predict(X_test)\n",
    "        y_train_preds = rf_model.predict(X_train)\n",
    "\n",
    "        #append the r2 value from the test set\n",
    "        r2_scores_test.append(r2_score(y_test, y_test_preds))\n",
    "        r2_scores_train.append(r2_score(y_train, y_train_preds))\n",
    "        results[str(cutoff)] = r2_score(y_test, y_test_preds)\n",
    "\n",
    "    if plot:\n",
    "        plt.plot(num_feats, r2_scores_test, label=\"Test\", alpha=.5)\n",
    "        plt.plot(num_feats, r2_scores_train, label=\"Train\", alpha=.5)\n",
    "        plt.xlabel('Number of Features')\n",
    "        plt.ylabel('Rsquared')\n",
    "        plt.title('Rsquared by Number of Features')\n",
    "        plt.legend(loc=1)\n",
    "        plt.show()\n",
    "        \n",
    "    best_cutoff = max(results, key=results.get)\n",
    "\n",
    "    #reduce X matrix\n",
    "    reduce_X = X.iloc[:, np.where((X.sum() > int(best_cutoff)) == True)[0]]\n",
    "    num_feats.append(reduce_X.shape[1])\n",
    "\n",
    "    #split the data into train and test\n",
    "    X_train, X_test, y_train, y_test = train_test_split(reduce_X, y, test_size = test_size, random_state=random_state)\n",
    "\n",
    "    #fit the model\n",
    "    if param_grid==None:\n",
    "        rf_model = RandomForestRegressor()  #no normalizing here, but could tune other hyperparameters\n",
    "\n",
    "    else:\n",
    "        rf_inst = RandomForestRegressor(n_jobs=-1, verbose=1)\n",
    "        rf_model = GridSearchCV(rf_inst, param_grid, n_jobs=-1) \n",
    "    rf_model.fit(X_train, y_train)\n",
    "     \n",
    "    return r2_scores_test, r2_scores_train, rf_model, X_train, X_test, y_train, y_test"
   ]
  },
  {
   "cell_type": "code",
   "execution_count": null,
   "metadata": {},
   "outputs": [],
   "source": [
    "cutoffs = [5000, 3500, 2500, 1000, 100, 50, 30, 20, 10, 5]\n",
    "params = {'n_estimators': [10, 100, 1000], 'max_depth': [1, 5, 10, 100]}\n",
    "r2_test, r2_train, rf_model, X_train, X_test, y_train, y_test = find_optimal_rf_mod(X, y, cutoffs, param_grid=params)"
   ]
  },
  {
   "cell_type": "code",
   "execution_count": null,
   "metadata": {},
   "outputs": [],
   "source": []
  },
  {
   "cell_type": "code",
   "execution_count": null,
   "metadata": {
    "collapsed": true,
    "jupyter": {
     "outputs_hidden": true
    }
   },
   "outputs": [],
   "source": []
  }
 ],
 "metadata": {
  "kernelspec": {
   "display_name": "Python 3",
   "language": "python",
   "name": "python3"
  },
  "language_info": {
   "codemirror_mode": {
    "name": "ipython",
    "version": 3
   },
   "file_extension": ".py",
   "mimetype": "text/x-python",
   "name": "python",
   "nbconvert_exporter": "python",
   "pygments_lexer": "ipython3",
   "version": "3.8.8"
  }
 },
 "nbformat": 4,
 "nbformat_minor": 4
}
